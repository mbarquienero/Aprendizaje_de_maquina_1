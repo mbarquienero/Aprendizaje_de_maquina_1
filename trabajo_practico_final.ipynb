{
 "cells": [
  {
   "cell_type": "markdown",
   "id": "ca6c570c",
   "metadata": {},
   "source": [
    " =============================================================\n",
    "  ##               TRABAJO FINAL INTEGRADOR       \n",
    "  \n",
    "  ###               APRENDIZAJE DE MÁQUINA 1\n",
    "  ###                   Census Income\n",
    " =============================================================\n",
    "\n",
    " **ALUMNOS:**\n",
    "- Mauro Fabián Barquinero\n",
    "- Mariano Campos\n",
    "- Juan Cruz Ojeda\n",
    "- Jose Luis Perez Galindo\n",
    "\n",
    "## DATESET\n",
    "Census Income <br>\n",
    "Kaggle: https://www.kaggle.com/datasets/tawfikelmetwally/census-income-dataset/data"
   ]
  },
  {
   "cell_type": "markdown",
   "id": "82a60bb6",
   "metadata": {},
   "source": [
    "## IMPORTS"
   ]
  },
  {
   "cell_type": "code",
   "execution_count": 5133,
   "id": "03c99d1b",
   "metadata": {},
   "outputs": [],
   "source": [
    "import pandas as pd\n",
    "import numpy as np\n",
    "import matplotlib.pyplot as plt\n",
    "import seaborn as sns\n",
    "\n",
    "from sklearn.model_selection import train_test_split\n",
    "from sklearn.ensemble import RandomForestClassifier\n",
    "from sklearn.metrics import classification_report, confusion_matrix, accuracy_score\n",
    "\n",
    "\n",
    "from sklearn.preprocessing import LabelEncoder\n",
    "from sklearn.ensemble import RandomForestClassifier\n",
    "from sklearn.model_selection import train_test_split\n",
    "\n",
    "#meétricas\n",
    "from sklearn.metrics import accuracy_score, confusion_matrix\n",
    "from sklearn.metrics import roc_auc_score, roc_curve \n",
    "from sklearn.metrics import f1_score, precision_score, recall_score\n",
    "from sklearn.preprocessing import LabelBinarizer\n",
    "\n",
    "import warnings\n",
    "warnings.filterwarnings('ignore')\n"
   ]
  },
  {
   "cell_type": "markdown",
   "id": "a7c234d5",
   "metadata": {},
   "source": [
    "## 1. CARGA DE DATOS - DATASET"
   ]
  },
  {
   "cell_type": "code",
   "execution_count": 5134,
   "id": "0c5dfdb8",
   "metadata": {},
   "outputs": [],
   "source": [
    "# Cargar dataset\n",
    "file_path_test_data = \"./adult.csv\"\n",
    "file_path_train_data = \"./adult.test.csv\"\n",
    "\n",
    "train_data = pd.read_csv(file_path_test_data)\n",
    "test_data= pd.read_csv(file_path_train_data)"
   ]
  },
  {
   "cell_type": "markdown",
   "id": "56c60148",
   "metadata": {},
   "source": [
    "## 2. ANALISIS DE LA ESTRUCTURA DEL DATASET"
   ]
  },
  {
   "cell_type": "code",
   "execution_count": null,
   "id": "c33301a6",
   "metadata": {},
   "outputs": [
    {
     "name": "stdout",
     "output_type": "stream",
     "text": [
      "\n",
      "🔹 Primeras filas del dataset train\n"
     ]
    },
    {
     "data": {
      "text/html": [
       "<div>\n",
       "<style scoped>\n",
       "    .dataframe tbody tr th:only-of-type {\n",
       "        vertical-align: middle;\n",
       "    }\n",
       "\n",
       "    .dataframe tbody tr th {\n",
       "        vertical-align: top;\n",
       "    }\n",
       "\n",
       "    .dataframe thead th {\n",
       "        text-align: right;\n",
       "    }\n",
       "</style>\n",
       "<table border=\"1\" class=\"dataframe\">\n",
       "  <thead>\n",
       "    <tr style=\"text-align: right;\">\n",
       "      <th></th>\n",
       "      <th>Age</th>\n",
       "      <th>Workclass</th>\n",
       "      <th>Final Weight</th>\n",
       "      <th>Education</th>\n",
       "      <th>EducationNum</th>\n",
       "      <th>Marital Status</th>\n",
       "      <th>Occupation</th>\n",
       "      <th>Relationship</th>\n",
       "      <th>Race</th>\n",
       "      <th>Gender</th>\n",
       "      <th>Capital Gain</th>\n",
       "      <th>capital loss</th>\n",
       "      <th>Hours per Week</th>\n",
       "      <th>Native Country</th>\n",
       "      <th>Income</th>\n",
       "    </tr>\n",
       "  </thead>\n",
       "  <tbody>\n",
       "    <tr>\n",
       "      <th>0</th>\n",
       "      <td>39</td>\n",
       "      <td>State-gov</td>\n",
       "      <td>77516</td>\n",
       "      <td>Bachelors</td>\n",
       "      <td>13</td>\n",
       "      <td>Never-married</td>\n",
       "      <td>Adm-clerical</td>\n",
       "      <td>Not-in-family</td>\n",
       "      <td>White</td>\n",
       "      <td>Male</td>\n",
       "      <td>2174</td>\n",
       "      <td>0</td>\n",
       "      <td>40</td>\n",
       "      <td>United-States</td>\n",
       "      <td>&lt;=50K</td>\n",
       "    </tr>\n",
       "    <tr>\n",
       "      <th>1</th>\n",
       "      <td>50</td>\n",
       "      <td>Self-emp-not-inc</td>\n",
       "      <td>83311</td>\n",
       "      <td>Bachelors</td>\n",
       "      <td>13</td>\n",
       "      <td>Married-civ-spouse</td>\n",
       "      <td>Exec-managerial</td>\n",
       "      <td>Husband</td>\n",
       "      <td>White</td>\n",
       "      <td>Male</td>\n",
       "      <td>0</td>\n",
       "      <td>0</td>\n",
       "      <td>13</td>\n",
       "      <td>United-States</td>\n",
       "      <td>&lt;=50K</td>\n",
       "    </tr>\n",
       "    <tr>\n",
       "      <th>2</th>\n",
       "      <td>38</td>\n",
       "      <td>Private</td>\n",
       "      <td>215646</td>\n",
       "      <td>HS-grad</td>\n",
       "      <td>9</td>\n",
       "      <td>Divorced</td>\n",
       "      <td>Handlers-cleaners</td>\n",
       "      <td>Not-in-family</td>\n",
       "      <td>White</td>\n",
       "      <td>Male</td>\n",
       "      <td>0</td>\n",
       "      <td>0</td>\n",
       "      <td>40</td>\n",
       "      <td>United-States</td>\n",
       "      <td>&lt;=50K</td>\n",
       "    </tr>\n",
       "    <tr>\n",
       "      <th>3</th>\n",
       "      <td>53</td>\n",
       "      <td>Private</td>\n",
       "      <td>234721</td>\n",
       "      <td>11th</td>\n",
       "      <td>7</td>\n",
       "      <td>Married-civ-spouse</td>\n",
       "      <td>Handlers-cleaners</td>\n",
       "      <td>Husband</td>\n",
       "      <td>Black</td>\n",
       "      <td>Male</td>\n",
       "      <td>0</td>\n",
       "      <td>0</td>\n",
       "      <td>40</td>\n",
       "      <td>United-States</td>\n",
       "      <td>&lt;=50K</td>\n",
       "    </tr>\n",
       "    <tr>\n",
       "      <th>4</th>\n",
       "      <td>28</td>\n",
       "      <td>Private</td>\n",
       "      <td>338409</td>\n",
       "      <td>Bachelors</td>\n",
       "      <td>13</td>\n",
       "      <td>Married-civ-spouse</td>\n",
       "      <td>Prof-specialty</td>\n",
       "      <td>Wife</td>\n",
       "      <td>Black</td>\n",
       "      <td>Female</td>\n",
       "      <td>0</td>\n",
       "      <td>0</td>\n",
       "      <td>40</td>\n",
       "      <td>Cuba</td>\n",
       "      <td>&lt;=50K</td>\n",
       "    </tr>\n",
       "  </tbody>\n",
       "</table>\n",
       "</div>"
      ],
      "text/plain": [
       "   Age          Workclass  Final Weight   Education  EducationNum  \\\n",
       "0   39          State-gov         77516   Bachelors            13   \n",
       "1   50   Self-emp-not-inc         83311   Bachelors            13   \n",
       "2   38            Private        215646     HS-grad             9   \n",
       "3   53            Private        234721        11th             7   \n",
       "4   28            Private        338409   Bachelors            13   \n",
       "\n",
       "        Marital Status          Occupation    Relationship    Race   Gender  \\\n",
       "0        Never-married        Adm-clerical   Not-in-family   White     Male   \n",
       "1   Married-civ-spouse     Exec-managerial         Husband   White     Male   \n",
       "2             Divorced   Handlers-cleaners   Not-in-family   White     Male   \n",
       "3   Married-civ-spouse   Handlers-cleaners         Husband   Black     Male   \n",
       "4   Married-civ-spouse      Prof-specialty            Wife   Black   Female   \n",
       "\n",
       "   Capital Gain  capital loss  Hours per Week  Native Country  Income  \n",
       "0          2174             0              40   United-States   <=50K  \n",
       "1             0             0              13   United-States   <=50K  \n",
       "2             0             0              40   United-States   <=50K  \n",
       "3             0             0              40   United-States   <=50K  \n",
       "4             0             0              40            Cuba   <=50K  "
      ]
     },
     "execution_count": 5135,
     "metadata": {},
     "output_type": "execute_result"
    }
   ],
   "source": [
    "# Se explora la estructura del dataset\n",
    "print(\"\\n🔹 Primeras filas del dataset TRAIN\")\n",
    "train_data.head()"
   ]
  },
  {
   "cell_type": "code",
   "execution_count": null,
   "id": "bec45ea8",
   "metadata": {},
   "outputs": [
    {
     "name": "stdout",
     "output_type": "stream",
     "text": [
      "\n",
      "🔹 Primeras filas del dataset test\n"
     ]
    },
    {
     "data": {
      "text/html": [
       "<div>\n",
       "<style scoped>\n",
       "    .dataframe tbody tr th:only-of-type {\n",
       "        vertical-align: middle;\n",
       "    }\n",
       "\n",
       "    .dataframe tbody tr th {\n",
       "        vertical-align: top;\n",
       "    }\n",
       "\n",
       "    .dataframe thead th {\n",
       "        text-align: right;\n",
       "    }\n",
       "</style>\n",
       "<table border=\"1\" class=\"dataframe\">\n",
       "  <thead>\n",
       "    <tr style=\"text-align: right;\">\n",
       "      <th></th>\n",
       "      <th>25</th>\n",
       "      <th>Private</th>\n",
       "      <th>226802</th>\n",
       "      <th>11th</th>\n",
       "      <th>7</th>\n",
       "      <th>Never-married</th>\n",
       "      <th>Machine-op-inspct</th>\n",
       "      <th>Own-child</th>\n",
       "      <th>Black</th>\n",
       "      <th>Male</th>\n",
       "      <th>0</th>\n",
       "      <th>0.1</th>\n",
       "      <th>40</th>\n",
       "      <th>United-States</th>\n",
       "      <th>&lt;=50K.</th>\n",
       "    </tr>\n",
       "  </thead>\n",
       "  <tbody>\n",
       "    <tr>\n",
       "      <th>0</th>\n",
       "      <td>38</td>\n",
       "      <td>Private</td>\n",
       "      <td>89814</td>\n",
       "      <td>HS-grad</td>\n",
       "      <td>9</td>\n",
       "      <td>Married-civ-spouse</td>\n",
       "      <td>Farming-fishing</td>\n",
       "      <td>Husband</td>\n",
       "      <td>White</td>\n",
       "      <td>Male</td>\n",
       "      <td>0</td>\n",
       "      <td>0</td>\n",
       "      <td>50</td>\n",
       "      <td>United-States</td>\n",
       "      <td>&lt;=50K.</td>\n",
       "    </tr>\n",
       "    <tr>\n",
       "      <th>1</th>\n",
       "      <td>28</td>\n",
       "      <td>Local-gov</td>\n",
       "      <td>336951</td>\n",
       "      <td>Assoc-acdm</td>\n",
       "      <td>12</td>\n",
       "      <td>Married-civ-spouse</td>\n",
       "      <td>Protective-serv</td>\n",
       "      <td>Husband</td>\n",
       "      <td>White</td>\n",
       "      <td>Male</td>\n",
       "      <td>0</td>\n",
       "      <td>0</td>\n",
       "      <td>40</td>\n",
       "      <td>United-States</td>\n",
       "      <td>&gt;50K.</td>\n",
       "    </tr>\n",
       "    <tr>\n",
       "      <th>2</th>\n",
       "      <td>44</td>\n",
       "      <td>Private</td>\n",
       "      <td>160323</td>\n",
       "      <td>Some-college</td>\n",
       "      <td>10</td>\n",
       "      <td>Married-civ-spouse</td>\n",
       "      <td>Machine-op-inspct</td>\n",
       "      <td>Husband</td>\n",
       "      <td>Black</td>\n",
       "      <td>Male</td>\n",
       "      <td>7688</td>\n",
       "      <td>0</td>\n",
       "      <td>40</td>\n",
       "      <td>United-States</td>\n",
       "      <td>&gt;50K.</td>\n",
       "    </tr>\n",
       "    <tr>\n",
       "      <th>3</th>\n",
       "      <td>18</td>\n",
       "      <td>?</td>\n",
       "      <td>103497</td>\n",
       "      <td>Some-college</td>\n",
       "      <td>10</td>\n",
       "      <td>Never-married</td>\n",
       "      <td>?</td>\n",
       "      <td>Own-child</td>\n",
       "      <td>White</td>\n",
       "      <td>Female</td>\n",
       "      <td>0</td>\n",
       "      <td>0</td>\n",
       "      <td>30</td>\n",
       "      <td>United-States</td>\n",
       "      <td>&lt;=50K.</td>\n",
       "    </tr>\n",
       "    <tr>\n",
       "      <th>4</th>\n",
       "      <td>34</td>\n",
       "      <td>Private</td>\n",
       "      <td>198693</td>\n",
       "      <td>10th</td>\n",
       "      <td>6</td>\n",
       "      <td>Never-married</td>\n",
       "      <td>Other-service</td>\n",
       "      <td>Not-in-family</td>\n",
       "      <td>White</td>\n",
       "      <td>Male</td>\n",
       "      <td>0</td>\n",
       "      <td>0</td>\n",
       "      <td>30</td>\n",
       "      <td>United-States</td>\n",
       "      <td>&lt;=50K.</td>\n",
       "    </tr>\n",
       "  </tbody>\n",
       "</table>\n",
       "</div>"
      ],
      "text/plain": [
       "   25     Private  226802           11th   7        Never-married  \\\n",
       "0  38     Private   89814        HS-grad   9   Married-civ-spouse   \n",
       "1  28   Local-gov  336951     Assoc-acdm  12   Married-civ-spouse   \n",
       "2  44     Private  160323   Some-college  10   Married-civ-spouse   \n",
       "3  18           ?  103497   Some-college  10        Never-married   \n",
       "4  34     Private  198693           10th   6        Never-married   \n",
       "\n",
       "    Machine-op-inspct       Own-child   Black     Male     0  0.1  40  \\\n",
       "0     Farming-fishing         Husband   White     Male     0    0  50   \n",
       "1     Protective-serv         Husband   White     Male     0    0  40   \n",
       "2   Machine-op-inspct         Husband   Black     Male  7688    0  40   \n",
       "3                   ?       Own-child   White   Female     0    0  30   \n",
       "4       Other-service   Not-in-family   White     Male     0    0  30   \n",
       "\n",
       "    United-States   <=50K.  \n",
       "0   United-States   <=50K.  \n",
       "1   United-States    >50K.  \n",
       "2   United-States    >50K.  \n",
       "3   United-States   <=50K.  \n",
       "4   United-States   <=50K.  "
      ]
     },
     "execution_count": 5136,
     "metadata": {},
     "output_type": "execute_result"
    }
   ],
   "source": [
    "# Se explora la estructura del dataset\n",
    "print(\"\\n🔹 Primeras filas del dataset TEST\")\n",
    "test_data.head()"
   ]
  },
  {
   "cell_type": "markdown",
   "id": "38e934be",
   "metadata": {},
   "source": [
    "El dataset de test contiene solo los datos sin los headers. Se procede a agregar las columnas al dataset de los tests."
   ]
  },
  {
   "cell_type": "code",
   "execution_count": null,
   "id": "2b877351",
   "metadata": {},
   "outputs": [
    {
     "data": {
      "text/html": [
       "<div>\n",
       "<style scoped>\n",
       "    .dataframe tbody tr th:only-of-type {\n",
       "        vertical-align: middle;\n",
       "    }\n",
       "\n",
       "    .dataframe tbody tr th {\n",
       "        vertical-align: top;\n",
       "    }\n",
       "\n",
       "    .dataframe thead th {\n",
       "        text-align: right;\n",
       "    }\n",
       "</style>\n",
       "<table border=\"1\" class=\"dataframe\">\n",
       "  <thead>\n",
       "    <tr style=\"text-align: right;\">\n",
       "      <th></th>\n",
       "      <th>Age</th>\n",
       "      <th>Workclass</th>\n",
       "      <th>Final Weight</th>\n",
       "      <th>Education</th>\n",
       "      <th>EducationNum</th>\n",
       "      <th>Marital Status</th>\n",
       "      <th>Occupation</th>\n",
       "      <th>Relationship</th>\n",
       "      <th>Race</th>\n",
       "      <th>Gender</th>\n",
       "      <th>Capital Gain</th>\n",
       "      <th>capital loss</th>\n",
       "      <th>Hours per Week</th>\n",
       "      <th>Native Country</th>\n",
       "      <th>Income</th>\n",
       "    </tr>\n",
       "  </thead>\n",
       "  <tbody>\n",
       "    <tr>\n",
       "      <th>0</th>\n",
       "      <td>39</td>\n",
       "      <td>State-gov</td>\n",
       "      <td>77516</td>\n",
       "      <td>Bachelors</td>\n",
       "      <td>13</td>\n",
       "      <td>Never-married</td>\n",
       "      <td>Adm-clerical</td>\n",
       "      <td>Not-in-family</td>\n",
       "      <td>White</td>\n",
       "      <td>Male</td>\n",
       "      <td>2174</td>\n",
       "      <td>0</td>\n",
       "      <td>40</td>\n",
       "      <td>United-States</td>\n",
       "      <td>&lt;=50K</td>\n",
       "    </tr>\n",
       "    <tr>\n",
       "      <th>1</th>\n",
       "      <td>50</td>\n",
       "      <td>Self-emp-not-inc</td>\n",
       "      <td>83311</td>\n",
       "      <td>Bachelors</td>\n",
       "      <td>13</td>\n",
       "      <td>Married-civ-spouse</td>\n",
       "      <td>Exec-managerial</td>\n",
       "      <td>Husband</td>\n",
       "      <td>White</td>\n",
       "      <td>Male</td>\n",
       "      <td>0</td>\n",
       "      <td>0</td>\n",
       "      <td>13</td>\n",
       "      <td>United-States</td>\n",
       "      <td>&lt;=50K</td>\n",
       "    </tr>\n",
       "    <tr>\n",
       "      <th>2</th>\n",
       "      <td>38</td>\n",
       "      <td>Private</td>\n",
       "      <td>215646</td>\n",
       "      <td>HS-grad</td>\n",
       "      <td>9</td>\n",
       "      <td>Divorced</td>\n",
       "      <td>Handlers-cleaners</td>\n",
       "      <td>Not-in-family</td>\n",
       "      <td>White</td>\n",
       "      <td>Male</td>\n",
       "      <td>0</td>\n",
       "      <td>0</td>\n",
       "      <td>40</td>\n",
       "      <td>United-States</td>\n",
       "      <td>&lt;=50K</td>\n",
       "    </tr>\n",
       "    <tr>\n",
       "      <th>3</th>\n",
       "      <td>53</td>\n",
       "      <td>Private</td>\n",
       "      <td>234721</td>\n",
       "      <td>11th</td>\n",
       "      <td>7</td>\n",
       "      <td>Married-civ-spouse</td>\n",
       "      <td>Handlers-cleaners</td>\n",
       "      <td>Husband</td>\n",
       "      <td>Black</td>\n",
       "      <td>Male</td>\n",
       "      <td>0</td>\n",
       "      <td>0</td>\n",
       "      <td>40</td>\n",
       "      <td>United-States</td>\n",
       "      <td>&lt;=50K</td>\n",
       "    </tr>\n",
       "    <tr>\n",
       "      <th>4</th>\n",
       "      <td>28</td>\n",
       "      <td>Private</td>\n",
       "      <td>338409</td>\n",
       "      <td>Bachelors</td>\n",
       "      <td>13</td>\n",
       "      <td>Married-civ-spouse</td>\n",
       "      <td>Prof-specialty</td>\n",
       "      <td>Wife</td>\n",
       "      <td>Black</td>\n",
       "      <td>Female</td>\n",
       "      <td>0</td>\n",
       "      <td>0</td>\n",
       "      <td>40</td>\n",
       "      <td>Cuba</td>\n",
       "      <td>&lt;=50K</td>\n",
       "    </tr>\n",
       "  </tbody>\n",
       "</table>\n",
       "</div>"
      ],
      "text/plain": [
       "   Age          Workclass  Final Weight   Education  EducationNum  \\\n",
       "0   39          State-gov         77516   Bachelors            13   \n",
       "1   50   Self-emp-not-inc         83311   Bachelors            13   \n",
       "2   38            Private        215646     HS-grad             9   \n",
       "3   53            Private        234721        11th             7   \n",
       "4   28            Private        338409   Bachelors            13   \n",
       "\n",
       "        Marital Status          Occupation    Relationship    Race   Gender  \\\n",
       "0        Never-married        Adm-clerical   Not-in-family   White     Male   \n",
       "1   Married-civ-spouse     Exec-managerial         Husband   White     Male   \n",
       "2             Divorced   Handlers-cleaners   Not-in-family   White     Male   \n",
       "3   Married-civ-spouse   Handlers-cleaners         Husband   Black     Male   \n",
       "4   Married-civ-spouse      Prof-specialty            Wife   Black   Female   \n",
       "\n",
       "   Capital Gain  capital loss  Hours per Week  Native Country  Income  \n",
       "0          2174             0              40   United-States   <=50K  \n",
       "1             0             0              13   United-States   <=50K  \n",
       "2             0             0              40   United-States   <=50K  \n",
       "3             0             0              40   United-States   <=50K  \n",
       "4             0             0              40            Cuba   <=50K  "
      ]
     },
     "execution_count": 5137,
     "metadata": {},
     "output_type": "execute_result"
    }
   ],
   "source": [
    "# Se obtiene los headers de train dataset\n",
    "test_data.columns = train_data.columns.tolist()\n",
    "# Se agregan los valores, se los concatena y se los incorpora en un único dataset 'df'\n",
    "df = pd.concat([train_data, test_data], axis=0)\n",
    "df.head(5)"
   ]
  },
  {
   "cell_type": "markdown",
   "id": "258e33ef",
   "metadata": {},
   "source": [
    "# Diccionario de Datos\n",
    "\n",
    "A continuación se transcribe la descripción de las variables disponibles en este dataset de [[la fuente]] https://www.kaggle.com/datasets/tawfikelmetwally/census-income-dataset/data\n",
    "\n",
    "* age: la edad de un individuo.\n",
    "\n",
    "* workclass: el tipo de trabajo o empleo de un individuo. Puede tener las siguientes categorías:\n",
    "    * Private: trabajando en el sector privado.\n",
    "    * Self-emp-not-inc: autónomos no incorporados (trabajadores por cuenta propia no constituidos como empresa).\n",
    "    * Self-emp-inc: autónomos incorporados (trabajadores por cuenta propia constituidos como empresa).\n",
    "    * Federal-gov: trabajando para el gobierno federal.\n",
    "    * Local-gov: trabajando para el gobierno local.\n",
    "    * State-gov: trabajando para el gobierno estatal.\n",
    "    * Without-pay: sin trabajo y sin remuneración.\n",
    "    * Never-worked: nunca ha trabajado.\n",
    "\n",
    "* Final Weight: los pesos en los archivos CPS están ajustados según estimaciones independientes de la población civil no institucional de EE.UU. Estas estimaciones son preparadas mensualmente por la División de Población del Buró del Censo. Usamos 3 conjuntos de controles.\n",
    "\n",
    "* education: el nivel más alto de educación completado.\n",
    "\n",
    "* education-num: el número de años de educación completados.\n",
    "\n",
    "* marital-status: el estado civil.\n",
    "\n",
    "* occupation: el tipo de trabajo desempeñado por un individuo.\n",
    "\n",
    "* relationship: el estado de relación (por ejemplo, cónyuge, hijo/a, jefe/a de familia).\n",
    "\n",
    "* race: la raza de un individuo.\n",
    "\n",
    "* sex: el género de un individuo.\n",
    "\n",
    "* capital-gain: la cantidad de ganancia de capital (beneficio financiero).\n",
    "\n",
    "* capital-loss: la cantidad de pérdida de capital que ha tenido un individuo.\n",
    "\n",
    "* hours-per-week: el número de horas trabajadas por semana.\n",
    "\n",
    "* native-country: el país de origen o país natal.\n",
    "\n",
    "* income: el nivel de ingresos de un individuo y sirve como variable objetivo. Indica si los ingresos son mayores a $50,000 o menores o iguales a $50,000, representado como (>50K, <=50K)."
   ]
  },
  {
   "cell_type": "code",
   "execution_count": 5138,
   "id": "46b4f931",
   "metadata": {},
   "outputs": [
    {
     "name": "stdout",
     "output_type": "stream",
     "text": [
      "3 primeras filas completas\n"
     ]
    },
    {
     "data": {
      "text/html": [
       "<div>\n",
       "<style scoped>\n",
       "    .dataframe tbody tr th:only-of-type {\n",
       "        vertical-align: middle;\n",
       "    }\n",
       "\n",
       "    .dataframe tbody tr th {\n",
       "        vertical-align: top;\n",
       "    }\n",
       "\n",
       "    .dataframe thead th {\n",
       "        text-align: right;\n",
       "    }\n",
       "</style>\n",
       "<table border=\"1\" class=\"dataframe\">\n",
       "  <thead>\n",
       "    <tr style=\"text-align: right;\">\n",
       "      <th></th>\n",
       "      <th>0</th>\n",
       "      <th>1</th>\n",
       "      <th>2</th>\n",
       "    </tr>\n",
       "  </thead>\n",
       "  <tbody>\n",
       "    <tr>\n",
       "      <th>Age</th>\n",
       "      <td>39</td>\n",
       "      <td>50</td>\n",
       "      <td>38</td>\n",
       "    </tr>\n",
       "    <tr>\n",
       "      <th>Workclass</th>\n",
       "      <td>State-gov</td>\n",
       "      <td>Self-emp-not-inc</td>\n",
       "      <td>Private</td>\n",
       "    </tr>\n",
       "    <tr>\n",
       "      <th>Final Weight</th>\n",
       "      <td>77516</td>\n",
       "      <td>83311</td>\n",
       "      <td>215646</td>\n",
       "    </tr>\n",
       "    <tr>\n",
       "      <th>Education</th>\n",
       "      <td>Bachelors</td>\n",
       "      <td>Bachelors</td>\n",
       "      <td>HS-grad</td>\n",
       "    </tr>\n",
       "    <tr>\n",
       "      <th>EducationNum</th>\n",
       "      <td>13</td>\n",
       "      <td>13</td>\n",
       "      <td>9</td>\n",
       "    </tr>\n",
       "    <tr>\n",
       "      <th>Marital Status</th>\n",
       "      <td>Never-married</td>\n",
       "      <td>Married-civ-spouse</td>\n",
       "      <td>Divorced</td>\n",
       "    </tr>\n",
       "    <tr>\n",
       "      <th>Occupation</th>\n",
       "      <td>Adm-clerical</td>\n",
       "      <td>Exec-managerial</td>\n",
       "      <td>Handlers-cleaners</td>\n",
       "    </tr>\n",
       "    <tr>\n",
       "      <th>Relationship</th>\n",
       "      <td>Not-in-family</td>\n",
       "      <td>Husband</td>\n",
       "      <td>Not-in-family</td>\n",
       "    </tr>\n",
       "    <tr>\n",
       "      <th>Race</th>\n",
       "      <td>White</td>\n",
       "      <td>White</td>\n",
       "      <td>White</td>\n",
       "    </tr>\n",
       "    <tr>\n",
       "      <th>Gender</th>\n",
       "      <td>Male</td>\n",
       "      <td>Male</td>\n",
       "      <td>Male</td>\n",
       "    </tr>\n",
       "    <tr>\n",
       "      <th>Capital Gain</th>\n",
       "      <td>2174</td>\n",
       "      <td>0</td>\n",
       "      <td>0</td>\n",
       "    </tr>\n",
       "    <tr>\n",
       "      <th>capital loss</th>\n",
       "      <td>0</td>\n",
       "      <td>0</td>\n",
       "      <td>0</td>\n",
       "    </tr>\n",
       "    <tr>\n",
       "      <th>Hours per Week</th>\n",
       "      <td>40</td>\n",
       "      <td>13</td>\n",
       "      <td>40</td>\n",
       "    </tr>\n",
       "    <tr>\n",
       "      <th>Native Country</th>\n",
       "      <td>United-States</td>\n",
       "      <td>United-States</td>\n",
       "      <td>United-States</td>\n",
       "    </tr>\n",
       "    <tr>\n",
       "      <th>Income</th>\n",
       "      <td>&lt;=50K</td>\n",
       "      <td>&lt;=50K</td>\n",
       "      <td>&lt;=50K</td>\n",
       "    </tr>\n",
       "  </tbody>\n",
       "</table>\n",
       "</div>"
      ],
      "text/plain": [
       "                             0                    1                   2\n",
       "Age                         39                   50                  38\n",
       "Workclass            State-gov     Self-emp-not-inc             Private\n",
       "Final Weight             77516                83311              215646\n",
       "Education            Bachelors            Bachelors             HS-grad\n",
       "EducationNum                13                   13                   9\n",
       "Marital Status   Never-married   Married-civ-spouse            Divorced\n",
       "Occupation        Adm-clerical      Exec-managerial   Handlers-cleaners\n",
       "Relationship     Not-in-family              Husband       Not-in-family\n",
       "Race                     White                White               White\n",
       "Gender                    Male                 Male                Male\n",
       "Capital Gain              2174                    0                   0\n",
       "capital loss                 0                    0                   0\n",
       "Hours per Week              40                   13                  40\n",
       "Native Country   United-States        United-States       United-States\n",
       "Income                   <=50K                <=50K               <=50K"
      ]
     },
     "execution_count": 5138,
     "metadata": {},
     "output_type": "execute_result"
    }
   ],
   "source": [
    "print(\"3 primeras filas completas\")\n",
    "df.head(3).T"
   ]
  },
  {
   "cell_type": "code",
   "execution_count": 5139,
   "id": "b93cab58",
   "metadata": {},
   "outputs": [
    {
     "name": "stdout",
     "output_type": "stream",
     "text": [
      "\n",
      "🔹 Información general del dataset\n",
      "<class 'pandas.core.frame.DataFrame'>\n",
      "Index: 48841 entries, 0 to 16279\n",
      "Data columns (total 15 columns):\n",
      " #   Column          Non-Null Count  Dtype \n",
      "---  ------          --------------  ----- \n",
      " 0   Age             48841 non-null  int64 \n",
      " 1   Workclass       48841 non-null  object\n",
      " 2   Final Weight    48841 non-null  int64 \n",
      " 3   Education       48841 non-null  object\n",
      " 4   EducationNum    48841 non-null  int64 \n",
      " 5   Marital Status  48841 non-null  object\n",
      " 6   Occupation      48841 non-null  object\n",
      " 7   Relationship    48841 non-null  object\n",
      " 8   Race            48841 non-null  object\n",
      " 9   Gender          48841 non-null  object\n",
      " 10  Capital Gain    48841 non-null  int64 \n",
      " 11  capital loss    48841 non-null  int64 \n",
      " 12  Hours per Week  48841 non-null  int64 \n",
      " 13  Native Country  48841 non-null  object\n",
      " 14  Income          48841 non-null  object\n",
      "dtypes: int64(6), object(9)\n",
      "memory usage: 6.0+ MB\n"
     ]
    }
   ],
   "source": [
    "print(\"\\n🔹 Información general del dataset\")\n",
    "df.info()"
   ]
  },
  {
   "cell_type": "code",
   "execution_count": 5140,
   "id": "6021d3f4",
   "metadata": {},
   "outputs": [
    {
     "name": "stdout",
     "output_type": "stream",
     "text": [
      "\n",
      "🔹 Cantidad de filas y columnas (48841, 15)\n"
     ]
    }
   ],
   "source": [
    "print(\"\\n🔹 Cantidad de filas y columnas\", df.shape)"
   ]
  },
  {
   "cell_type": "code",
   "execution_count": 5141,
   "id": "00374090",
   "metadata": {},
   "outputs": [
    {
     "name": "stdout",
     "output_type": "stream",
     "text": [
      "n\\🔹 Nombres de las columnas del dataset:\n"
     ]
    },
    {
     "data": {
      "text/plain": [
       "['Age',\n",
       " 'Workclass',\n",
       " 'Final Weight',\n",
       " 'Education',\n",
       " 'EducationNum',\n",
       " 'Marital Status',\n",
       " 'Occupation',\n",
       " 'Relationship',\n",
       " 'Race',\n",
       " 'Gender',\n",
       " 'Capital Gain',\n",
       " 'capital loss',\n",
       " 'Hours per Week',\n",
       " 'Native Country',\n",
       " 'Income']"
      ]
     },
     "execution_count": 5141,
     "metadata": {},
     "output_type": "execute_result"
    }
   ],
   "source": [
    "print(\"n\\🔹 Nombres de las columnas del dataset:\")\n",
    "list(df.columns)"
   ]
  },
  {
   "cell_type": "markdown",
   "id": "7fbae816",
   "metadata": {},
   "source": [
    "# 3. LIMPIEZA DE LOS DATOS"
   ]
  },
  {
   "cell_type": "markdown",
   "id": "091a9b3d",
   "metadata": {},
   "source": [
    "### 3.1 Tipos de datos"
   ]
  },
  {
   "cell_type": "code",
   "execution_count": 5142,
   "id": "e37335df",
   "metadata": {},
   "outputs": [
    {
     "data": {
      "text/html": [
       "<div>\n",
       "<style scoped>\n",
       "    .dataframe tbody tr th:only-of-type {\n",
       "        vertical-align: middle;\n",
       "    }\n",
       "\n",
       "    .dataframe tbody tr th {\n",
       "        vertical-align: top;\n",
       "    }\n",
       "\n",
       "    .dataframe thead th {\n",
       "        text-align: right;\n",
       "    }\n",
       "</style>\n",
       "<table border=\"1\" class=\"dataframe\">\n",
       "  <thead>\n",
       "    <tr style=\"text-align: right;\">\n",
       "      <th></th>\n",
       "      <th>dtypes</th>\n",
       "    </tr>\n",
       "  </thead>\n",
       "  <tbody>\n",
       "    <tr>\n",
       "      <th>Age</th>\n",
       "      <td>int64</td>\n",
       "    </tr>\n",
       "    <tr>\n",
       "      <th>Workclass</th>\n",
       "      <td>object</td>\n",
       "    </tr>\n",
       "    <tr>\n",
       "      <th>Final Weight</th>\n",
       "      <td>int64</td>\n",
       "    </tr>\n",
       "    <tr>\n",
       "      <th>Education</th>\n",
       "      <td>object</td>\n",
       "    </tr>\n",
       "    <tr>\n",
       "      <th>EducationNum</th>\n",
       "      <td>int64</td>\n",
       "    </tr>\n",
       "    <tr>\n",
       "      <th>Marital Status</th>\n",
       "      <td>object</td>\n",
       "    </tr>\n",
       "    <tr>\n",
       "      <th>Occupation</th>\n",
       "      <td>object</td>\n",
       "    </tr>\n",
       "    <tr>\n",
       "      <th>Relationship</th>\n",
       "      <td>object</td>\n",
       "    </tr>\n",
       "    <tr>\n",
       "      <th>Race</th>\n",
       "      <td>object</td>\n",
       "    </tr>\n",
       "    <tr>\n",
       "      <th>Gender</th>\n",
       "      <td>object</td>\n",
       "    </tr>\n",
       "    <tr>\n",
       "      <th>Capital Gain</th>\n",
       "      <td>int64</td>\n",
       "    </tr>\n",
       "    <tr>\n",
       "      <th>capital loss</th>\n",
       "      <td>int64</td>\n",
       "    </tr>\n",
       "    <tr>\n",
       "      <th>Hours per Week</th>\n",
       "      <td>int64</td>\n",
       "    </tr>\n",
       "    <tr>\n",
       "      <th>Native Country</th>\n",
       "      <td>object</td>\n",
       "    </tr>\n",
       "    <tr>\n",
       "      <th>Income</th>\n",
       "      <td>object</td>\n",
       "    </tr>\n",
       "  </tbody>\n",
       "</table>\n",
       "</div>"
      ],
      "text/plain": [
       "                dtypes\n",
       "Age              int64\n",
       "Workclass       object\n",
       "Final Weight     int64\n",
       "Education       object\n",
       "EducationNum     int64\n",
       "Marital Status  object\n",
       "Occupation      object\n",
       "Relationship    object\n",
       "Race            object\n",
       "Gender          object\n",
       "Capital Gain     int64\n",
       "capital loss     int64\n",
       "Hours per Week   int64\n",
       "Native Country  object\n",
       "Income          object"
      ]
     },
     "execution_count": 5142,
     "metadata": {},
     "output_type": "execute_result"
    }
   ],
   "source": [
    "# repasamos los dtypes\n",
    "df.dtypes.rename('dtypes').to_frame()"
   ]
  },
  {
   "cell_type": "markdown",
   "id": "de4e1d50",
   "metadata": {},
   "source": [
    "* Lo que podemos observar es que no hay columnas con fechas.\n",
    "* Solo hay dos tipos de datos en el dataset. `int64` y `object`."
   ]
  },
  {
   "cell_type": "markdown",
   "id": "54aaa8c5",
   "metadata": {},
   "source": [
    "### 3.2 Estandarización de columnas\n",
    "Para facilitar su uso, las campos del dataset se llevan a minúsculas."
   ]
  },
  {
   "cell_type": "code",
   "execution_count": 5143,
   "id": "098919c7",
   "metadata": {},
   "outputs": [
    {
     "data": {
      "text/plain": [
       "['age',\n",
       " 'workclass',\n",
       " 'final weight',\n",
       " 'education',\n",
       " 'educationnum',\n",
       " 'marital status',\n",
       " 'occupation',\n",
       " 'relationship',\n",
       " 'race',\n",
       " 'gender',\n",
       " 'capital gain',\n",
       " 'capital loss',\n",
       " 'hours per week',\n",
       " 'native country',\n",
       " 'income']"
      ]
     },
     "execution_count": 5143,
     "metadata": {},
     "output_type": "execute_result"
    }
   ],
   "source": [
    "# Se estandariza los nombres de las columnas a minusculas y se limpian espacios.\n",
    "df.columns = (\n",
    "    df.columns.\n",
    "    str.strip().\n",
    "    str.lower()\n",
    ")\n",
    "\n",
    "# Mostrar columnas resultantes\n",
    "df.columns.tolist()"
   ]
  },
  {
   "cell_type": "markdown",
   "id": "6c7e47cf",
   "metadata": {},
   "source": [
    "### 3.3 Se remueven los espacios en blancos de los valores"
   ]
  },
  {
   "cell_type": "code",
   "execution_count": 5144,
   "id": "6051b71c",
   "metadata": {},
   "outputs": [
    {
     "name": "stdout",
     "output_type": "stream",
     "text": [
      "<class 'pandas.core.frame.DataFrame'>\n",
      "Index: 48841 entries, 0 to 16279\n",
      "Data columns (total 15 columns):\n",
      " #   Column          Non-Null Count  Dtype \n",
      "---  ------          --------------  ----- \n",
      " 0   age             48841 non-null  int64 \n",
      " 1   workclass       48841 non-null  object\n",
      " 2   final weight    48841 non-null  int64 \n",
      " 3   education       48841 non-null  object\n",
      " 4   educationnum    48841 non-null  int64 \n",
      " 5   marital status  48841 non-null  object\n",
      " 6   occupation      48841 non-null  object\n",
      " 7   relationship    48841 non-null  object\n",
      " 8   race            48841 non-null  object\n",
      " 9   gender          48841 non-null  object\n",
      " 10  capital gain    48841 non-null  int64 \n",
      " 11  capital loss    48841 non-null  int64 \n",
      " 12  hours per week  48841 non-null  int64 \n",
      " 13  native country  48841 non-null  object\n",
      " 14  income          48841 non-null  object\n",
      "dtypes: int64(6), object(9)\n",
      "memory usage: 6.0+ MB\n"
     ]
    }
   ],
   "source": [
    "for col in df.select_dtypes(include='object').columns:\n",
    "    df[col] = df[col].str.strip()\n",
    "\n",
    "df.info()"
   ]
  },
  {
   "cell_type": "markdown",
   "id": "13b010ff",
   "metadata": {},
   "source": [
    "### 3.4 Valores faltantes"
   ]
  },
  {
   "cell_type": "code",
   "execution_count": 5145,
   "id": "78042585",
   "metadata": {},
   "outputs": [
    {
     "data": {
      "text/plain": [
       "age               0\n",
       "workclass         0\n",
       "final weight      0\n",
       "education         0\n",
       "educationnum      0\n",
       "marital status    0\n",
       "occupation        0\n",
       "relationship      0\n",
       "race              0\n",
       "gender            0\n",
       "capital gain      0\n",
       "capital loss      0\n",
       "hours per week    0\n",
       "native country    0\n",
       "income            0\n",
       "dtype: int64"
      ]
     },
     "execution_count": 5145,
     "metadata": {},
     "output_type": "execute_result"
    }
   ],
   "source": [
    "# Verificar valores faltantes por columna\n",
    "df.isnull().sum()"
   ]
  },
  {
   "cell_type": "code",
   "execution_count": 5146,
   "id": "108e127e",
   "metadata": {},
   "outputs": [
    {
     "data": {
      "text/plain": [
       "array([39, 50, 38, 53, 28, 37, 49, 52, 31, 42, 30, 23, 32, 40, 34, 25, 43,\n",
       "       54, 35, 59, 56, 19, 20, 45, 22, 48, 21, 24, 57, 44, 41, 29, 18, 47,\n",
       "       46, 36, 79, 27, 67, 33, 76, 17, 55, 61, 70, 64, 71, 68, 66, 51, 58,\n",
       "       26, 60, 90, 75, 65, 77, 62, 63, 80, 72, 74, 69, 73, 81, 78, 88, 82,\n",
       "       83, 84, 85, 86, 87, 89])"
      ]
     },
     "execution_count": 5146,
     "metadata": {},
     "output_type": "execute_result"
    }
   ],
   "source": [
    "df['age'].unique()"
   ]
  },
  {
   "cell_type": "code",
   "execution_count": 5147,
   "id": "18384bea",
   "metadata": {},
   "outputs": [
    {
     "data": {
      "text/plain": [
       "array(['State-gov', 'Self-emp-not-inc', 'Private', 'Federal-gov',\n",
       "       'Local-gov', '?', 'Self-emp-inc', 'Without-pay', 'Never-worked'],\n",
       "      dtype=object)"
      ]
     },
     "execution_count": 5147,
     "metadata": {},
     "output_type": "execute_result"
    }
   ],
   "source": [
    "df['workclass'].unique()"
   ]
  },
  {
   "cell_type": "code",
   "execution_count": 5148,
   "id": "7f1e490c",
   "metadata": {},
   "outputs": [
    {
     "data": {
      "text/plain": [
       "array(['Adm-clerical', 'Exec-managerial', 'Handlers-cleaners',\n",
       "       'Prof-specialty', 'Other-service', 'Sales', 'Craft-repair',\n",
       "       'Transport-moving', 'Farming-fishing', 'Machine-op-inspct',\n",
       "       'Tech-support', '?', 'Protective-serv', 'Armed-Forces',\n",
       "       'Priv-house-serv'], dtype=object)"
      ]
     },
     "execution_count": 5148,
     "metadata": {},
     "output_type": "execute_result"
    }
   ],
   "source": [
    "df['occupation'].unique()"
   ]
  },
  {
   "cell_type": "markdown",
   "id": "1f0a6be3",
   "metadata": {},
   "source": [
    "Podemos observar un '?'. Esto representa valores faltantes. Se lo va a reemplazar aquellos ? por NaN"
   ]
  },
  {
   "cell_type": "code",
   "execution_count": 5149,
   "id": "72ee5e61",
   "metadata": {},
   "outputs": [],
   "source": [
    "df.replace(\"?\", np.nan, inplace=True)"
   ]
  },
  {
   "cell_type": "markdown",
   "id": "ab1d9960",
   "metadata": {},
   "source": [
    "Se verifican la cantidad de valores faltantes"
   ]
  },
  {
   "cell_type": "code",
   "execution_count": 5150,
   "id": "8237ec88",
   "metadata": {},
   "outputs": [
    {
     "name": "stdout",
     "output_type": "stream",
     "text": [
      "          Columna  Valores Faltantes\n",
      "0      occupation               2809\n",
      "1       workclass               2799\n",
      "2  native country                857\n"
     ]
    }
   ],
   "source": [
    "missing_data = (df.isna().sum()\n",
    "                  .pipe(lambda s: s[s > 0]) # Filtro solo aquellas campos que tengan valores faltantes\n",
    "                  .sort_values(ascending=False)\n",
    "                  .reset_index())\n",
    "\n",
    "missing_data.columns = ['Columna', 'Valores Faltantes']\n",
    "print(missing_data)"
   ]
  },
  {
   "cell_type": "code",
   "execution_count": 5151,
   "id": "c5636d18",
   "metadata": {},
   "outputs": [
    {
     "data": {
      "text/plain": [
       "workclass\n",
       "Private             33905\n",
       "Self-emp-not-inc     3862\n",
       "Local-gov            3136\n",
       "State-gov            1981\n",
       "Self-emp-inc         1695\n",
       "Federal-gov          1432\n",
       "Without-pay            21\n",
       "Never-worked           10\n",
       "Name: count, dtype: int64"
      ]
     },
     "execution_count": 5151,
     "metadata": {},
     "output_type": "execute_result"
    }
   ],
   "source": [
    "df['workclass'].value_counts()"
   ]
  },
  {
   "cell_type": "markdown",
   "id": "52b8252f",
   "metadata": {},
   "source": [
    "Podemos visualizar que hay 10 valores con 'Never-worked'. Esto indica que la persona nunca trabajo"
   ]
  },
  {
   "cell_type": "code",
   "execution_count": 5152,
   "id": "30131c4a",
   "metadata": {},
   "outputs": [
    {
     "data": {
      "text/plain": [
       "occupation\n",
       "Prof-specialty       6172\n",
       "Craft-repair         6112\n",
       "Exec-managerial      6086\n",
       "Adm-clerical         5611\n",
       "Sales                5504\n",
       "Other-service        4923\n",
       "Machine-op-inspct    3021\n",
       "Transport-moving     2355\n",
       "Handlers-cleaners    2072\n",
       "Farming-fishing      1490\n",
       "Tech-support         1446\n",
       "Protective-serv       983\n",
       "Priv-house-serv       242\n",
       "Armed-Forces           15\n",
       "Name: count, dtype: int64"
      ]
     },
     "execution_count": 5152,
     "metadata": {},
     "output_type": "execute_result"
    }
   ],
   "source": [
    "df['occupation'].value_counts()"
   ]
  },
  {
   "cell_type": "markdown",
   "id": "12c42d49",
   "metadata": {},
   "source": [
    "Los campos campos 'workclass' y 'occupation' estan correlacionados. "
   ]
  },
  {
   "cell_type": "code",
   "execution_count": 5153,
   "id": "d3402947",
   "metadata": {},
   "outputs": [
    {
     "data": {
      "text/html": [
       "<div>\n",
       "<style scoped>\n",
       "    .dataframe tbody tr th:only-of-type {\n",
       "        vertical-align: middle;\n",
       "    }\n",
       "\n",
       "    .dataframe tbody tr th {\n",
       "        vertical-align: top;\n",
       "    }\n",
       "\n",
       "    .dataframe thead th {\n",
       "        text-align: right;\n",
       "    }\n",
       "</style>\n",
       "<table border=\"1\" class=\"dataframe\">\n",
       "  <thead>\n",
       "    <tr style=\"text-align: right;\">\n",
       "      <th></th>\n",
       "      <th>age</th>\n",
       "      <th>workclass</th>\n",
       "      <th>final weight</th>\n",
       "      <th>education</th>\n",
       "      <th>educationnum</th>\n",
       "      <th>marital status</th>\n",
       "      <th>occupation</th>\n",
       "      <th>relationship</th>\n",
       "      <th>race</th>\n",
       "      <th>gender</th>\n",
       "      <th>capital gain</th>\n",
       "      <th>capital loss</th>\n",
       "      <th>hours per week</th>\n",
       "      <th>native country</th>\n",
       "      <th>income</th>\n",
       "    </tr>\n",
       "  </thead>\n",
       "  <tbody>\n",
       "    <tr>\n",
       "      <th>5361</th>\n",
       "      <td>18</td>\n",
       "      <td>Never-worked</td>\n",
       "      <td>206359</td>\n",
       "      <td>10th</td>\n",
       "      <td>6</td>\n",
       "      <td>Never-married</td>\n",
       "      <td>NaN</td>\n",
       "      <td>Own-child</td>\n",
       "      <td>White</td>\n",
       "      <td>Male</td>\n",
       "      <td>0</td>\n",
       "      <td>0</td>\n",
       "      <td>40</td>\n",
       "      <td>United-States</td>\n",
       "      <td>&lt;=50K</td>\n",
       "    </tr>\n",
       "    <tr>\n",
       "      <th>10845</th>\n",
       "      <td>23</td>\n",
       "      <td>Never-worked</td>\n",
       "      <td>188535</td>\n",
       "      <td>7th-8th</td>\n",
       "      <td>4</td>\n",
       "      <td>Divorced</td>\n",
       "      <td>NaN</td>\n",
       "      <td>Not-in-family</td>\n",
       "      <td>White</td>\n",
       "      <td>Male</td>\n",
       "      <td>0</td>\n",
       "      <td>0</td>\n",
       "      <td>35</td>\n",
       "      <td>United-States</td>\n",
       "      <td>&lt;=50K</td>\n",
       "    </tr>\n",
       "    <tr>\n",
       "      <th>14772</th>\n",
       "      <td>17</td>\n",
       "      <td>Never-worked</td>\n",
       "      <td>237272</td>\n",
       "      <td>10th</td>\n",
       "      <td>6</td>\n",
       "      <td>Never-married</td>\n",
       "      <td>NaN</td>\n",
       "      <td>Own-child</td>\n",
       "      <td>White</td>\n",
       "      <td>Male</td>\n",
       "      <td>0</td>\n",
       "      <td>0</td>\n",
       "      <td>30</td>\n",
       "      <td>United-States</td>\n",
       "      <td>&lt;=50K</td>\n",
       "    </tr>\n",
       "    <tr>\n",
       "      <th>20337</th>\n",
       "      <td>18</td>\n",
       "      <td>Never-worked</td>\n",
       "      <td>157131</td>\n",
       "      <td>11th</td>\n",
       "      <td>7</td>\n",
       "      <td>Never-married</td>\n",
       "      <td>NaN</td>\n",
       "      <td>Own-child</td>\n",
       "      <td>White</td>\n",
       "      <td>Female</td>\n",
       "      <td>0</td>\n",
       "      <td>0</td>\n",
       "      <td>10</td>\n",
       "      <td>United-States</td>\n",
       "      <td>&lt;=50K</td>\n",
       "    </tr>\n",
       "    <tr>\n",
       "      <th>23232</th>\n",
       "      <td>20</td>\n",
       "      <td>Never-worked</td>\n",
       "      <td>462294</td>\n",
       "      <td>Some-college</td>\n",
       "      <td>10</td>\n",
       "      <td>Never-married</td>\n",
       "      <td>NaN</td>\n",
       "      <td>Own-child</td>\n",
       "      <td>Black</td>\n",
       "      <td>Male</td>\n",
       "      <td>0</td>\n",
       "      <td>0</td>\n",
       "      <td>40</td>\n",
       "      <td>United-States</td>\n",
       "      <td>&lt;=50K</td>\n",
       "    </tr>\n",
       "    <tr>\n",
       "      <th>32304</th>\n",
       "      <td>30</td>\n",
       "      <td>Never-worked</td>\n",
       "      <td>176673</td>\n",
       "      <td>HS-grad</td>\n",
       "      <td>9</td>\n",
       "      <td>Married-civ-spouse</td>\n",
       "      <td>NaN</td>\n",
       "      <td>Wife</td>\n",
       "      <td>Black</td>\n",
       "      <td>Female</td>\n",
       "      <td>0</td>\n",
       "      <td>0</td>\n",
       "      <td>40</td>\n",
       "      <td>United-States</td>\n",
       "      <td>&lt;=50K</td>\n",
       "    </tr>\n",
       "    <tr>\n",
       "      <th>32314</th>\n",
       "      <td>18</td>\n",
       "      <td>Never-worked</td>\n",
       "      <td>153663</td>\n",
       "      <td>Some-college</td>\n",
       "      <td>10</td>\n",
       "      <td>Never-married</td>\n",
       "      <td>NaN</td>\n",
       "      <td>Own-child</td>\n",
       "      <td>White</td>\n",
       "      <td>Male</td>\n",
       "      <td>0</td>\n",
       "      <td>0</td>\n",
       "      <td>4</td>\n",
       "      <td>United-States</td>\n",
       "      <td>&lt;=50K</td>\n",
       "    </tr>\n",
       "    <tr>\n",
       "      <th>8784</th>\n",
       "      <td>17</td>\n",
       "      <td>Never-worked</td>\n",
       "      <td>131593</td>\n",
       "      <td>11th</td>\n",
       "      <td>7</td>\n",
       "      <td>Never-married</td>\n",
       "      <td>NaN</td>\n",
       "      <td>Own-child</td>\n",
       "      <td>Black</td>\n",
       "      <td>Female</td>\n",
       "      <td>0</td>\n",
       "      <td>0</td>\n",
       "      <td>20</td>\n",
       "      <td>United-States</td>\n",
       "      <td>&lt;=50K.</td>\n",
       "    </tr>\n",
       "    <tr>\n",
       "      <th>11606</th>\n",
       "      <td>20</td>\n",
       "      <td>Never-worked</td>\n",
       "      <td>273905</td>\n",
       "      <td>HS-grad</td>\n",
       "      <td>9</td>\n",
       "      <td>Married-spouse-absent</td>\n",
       "      <td>NaN</td>\n",
       "      <td>Other-relative</td>\n",
       "      <td>White</td>\n",
       "      <td>Male</td>\n",
       "      <td>0</td>\n",
       "      <td>0</td>\n",
       "      <td>35</td>\n",
       "      <td>United-States</td>\n",
       "      <td>&lt;=50K.</td>\n",
       "    </tr>\n",
       "    <tr>\n",
       "      <th>13897</th>\n",
       "      <td>18</td>\n",
       "      <td>Never-worked</td>\n",
       "      <td>162908</td>\n",
       "      <td>11th</td>\n",
       "      <td>7</td>\n",
       "      <td>Never-married</td>\n",
       "      <td>NaN</td>\n",
       "      <td>Own-child</td>\n",
       "      <td>White</td>\n",
       "      <td>Male</td>\n",
       "      <td>0</td>\n",
       "      <td>0</td>\n",
       "      <td>35</td>\n",
       "      <td>United-States</td>\n",
       "      <td>&lt;=50K.</td>\n",
       "    </tr>\n",
       "  </tbody>\n",
       "</table>\n",
       "</div>"
      ],
      "text/plain": [
       "       age     workclass  final weight     education  educationnum  \\\n",
       "5361    18  Never-worked        206359          10th             6   \n",
       "10845   23  Never-worked        188535       7th-8th             4   \n",
       "14772   17  Never-worked        237272          10th             6   \n",
       "20337   18  Never-worked        157131          11th             7   \n",
       "23232   20  Never-worked        462294  Some-college            10   \n",
       "32304   30  Never-worked        176673       HS-grad             9   \n",
       "32314   18  Never-worked        153663  Some-college            10   \n",
       "8784    17  Never-worked        131593          11th             7   \n",
       "11606   20  Never-worked        273905       HS-grad             9   \n",
       "13897   18  Never-worked        162908          11th             7   \n",
       "\n",
       "              marital status occupation    relationship   race  gender  \\\n",
       "5361           Never-married        NaN       Own-child  White    Male   \n",
       "10845               Divorced        NaN   Not-in-family  White    Male   \n",
       "14772          Never-married        NaN       Own-child  White    Male   \n",
       "20337          Never-married        NaN       Own-child  White  Female   \n",
       "23232          Never-married        NaN       Own-child  Black    Male   \n",
       "32304     Married-civ-spouse        NaN            Wife  Black  Female   \n",
       "32314          Never-married        NaN       Own-child  White    Male   \n",
       "8784           Never-married        NaN       Own-child  Black  Female   \n",
       "11606  Married-spouse-absent        NaN  Other-relative  White    Male   \n",
       "13897          Never-married        NaN       Own-child  White    Male   \n",
       "\n",
       "       capital gain  capital loss  hours per week native country  income  \n",
       "5361              0             0              40  United-States   <=50K  \n",
       "10845             0             0              35  United-States   <=50K  \n",
       "14772             0             0              30  United-States   <=50K  \n",
       "20337             0             0              10  United-States   <=50K  \n",
       "23232             0             0              40  United-States   <=50K  \n",
       "32304             0             0              40  United-States   <=50K  \n",
       "32314             0             0               4  United-States   <=50K  \n",
       "8784              0             0              20  United-States  <=50K.  \n",
       "11606             0             0              35  United-States  <=50K.  \n",
       "13897             0             0              35  United-States  <=50K.  "
      ]
     },
     "execution_count": 5153,
     "metadata": {},
     "output_type": "execute_result"
    }
   ],
   "source": [
    "df[df['occupation'].isna() & ~df['workclass'].isna()]"
   ]
  },
  {
   "cell_type": "markdown",
   "id": "35f90555",
   "metadata": {},
   "source": [
    "Como podemos visualizar 'occupation' tiene valores NaN debido que esta correlacionado a 'workclass' y es lógico. Si la personna nunca trabajó, no va a tener una ocupación. <br>\n",
    "\n",
    "## La variable occupation presenta valores faltantes bajo un patrón MAR (Missing At Random), ya que la ausencia se explica observando otra variable (workclass). <br>\n",
    "\n",
    "Se procede con la imputación. Para este caso en particular y debido a que solo hay 10 valores faltantes. Se decile imputar una categoría artificial como 'No-occupation' para los casos que 'workclass'\n"
   ]
  },
  {
   "cell_type": "code",
   "execution_count": 5154,
   "id": "8c01905e",
   "metadata": {},
   "outputs": [
    {
     "data": {
      "text/html": [
       "<div>\n",
       "<style scoped>\n",
       "    .dataframe tbody tr th:only-of-type {\n",
       "        vertical-align: middle;\n",
       "    }\n",
       "\n",
       "    .dataframe tbody tr th {\n",
       "        vertical-align: top;\n",
       "    }\n",
       "\n",
       "    .dataframe thead th {\n",
       "        text-align: right;\n",
       "    }\n",
       "</style>\n",
       "<table border=\"1\" class=\"dataframe\">\n",
       "  <thead>\n",
       "    <tr style=\"text-align: right;\">\n",
       "      <th></th>\n",
       "      <th>age</th>\n",
       "      <th>workclass</th>\n",
       "      <th>occupation</th>\n",
       "      <th>native country</th>\n",
       "      <th>income</th>\n",
       "    </tr>\n",
       "  </thead>\n",
       "  <tbody>\n",
       "    <tr>\n",
       "      <th>5361</th>\n",
       "      <td>18</td>\n",
       "      <td>Never-worked</td>\n",
       "      <td>No-occupation</td>\n",
       "      <td>United-States</td>\n",
       "      <td>&lt;=50K</td>\n",
       "    </tr>\n",
       "    <tr>\n",
       "      <th>10845</th>\n",
       "      <td>23</td>\n",
       "      <td>Never-worked</td>\n",
       "      <td>No-occupation</td>\n",
       "      <td>United-States</td>\n",
       "      <td>&lt;=50K</td>\n",
       "    </tr>\n",
       "    <tr>\n",
       "      <th>14772</th>\n",
       "      <td>17</td>\n",
       "      <td>Never-worked</td>\n",
       "      <td>No-occupation</td>\n",
       "      <td>United-States</td>\n",
       "      <td>&lt;=50K</td>\n",
       "    </tr>\n",
       "    <tr>\n",
       "      <th>20337</th>\n",
       "      <td>18</td>\n",
       "      <td>Never-worked</td>\n",
       "      <td>No-occupation</td>\n",
       "      <td>United-States</td>\n",
       "      <td>&lt;=50K</td>\n",
       "    </tr>\n",
       "    <tr>\n",
       "      <th>23232</th>\n",
       "      <td>20</td>\n",
       "      <td>Never-worked</td>\n",
       "      <td>No-occupation</td>\n",
       "      <td>United-States</td>\n",
       "      <td>&lt;=50K</td>\n",
       "    </tr>\n",
       "    <tr>\n",
       "      <th>32304</th>\n",
       "      <td>30</td>\n",
       "      <td>Never-worked</td>\n",
       "      <td>No-occupation</td>\n",
       "      <td>United-States</td>\n",
       "      <td>&lt;=50K</td>\n",
       "    </tr>\n",
       "    <tr>\n",
       "      <th>32314</th>\n",
       "      <td>18</td>\n",
       "      <td>Never-worked</td>\n",
       "      <td>No-occupation</td>\n",
       "      <td>United-States</td>\n",
       "      <td>&lt;=50K</td>\n",
       "    </tr>\n",
       "    <tr>\n",
       "      <th>8784</th>\n",
       "      <td>17</td>\n",
       "      <td>Never-worked</td>\n",
       "      <td>No-occupation</td>\n",
       "      <td>United-States</td>\n",
       "      <td>&lt;=50K.</td>\n",
       "    </tr>\n",
       "    <tr>\n",
       "      <th>11606</th>\n",
       "      <td>20</td>\n",
       "      <td>Never-worked</td>\n",
       "      <td>No-occupation</td>\n",
       "      <td>United-States</td>\n",
       "      <td>&lt;=50K.</td>\n",
       "    </tr>\n",
       "    <tr>\n",
       "      <th>13897</th>\n",
       "      <td>18</td>\n",
       "      <td>Never-worked</td>\n",
       "      <td>No-occupation</td>\n",
       "      <td>United-States</td>\n",
       "      <td>&lt;=50K.</td>\n",
       "    </tr>\n",
       "  </tbody>\n",
       "</table>\n",
       "</div>"
      ],
      "text/plain": [
       "       age     workclass     occupation native country  income\n",
       "5361    18  Never-worked  No-occupation  United-States   <=50K\n",
       "10845   23  Never-worked  No-occupation  United-States   <=50K\n",
       "14772   17  Never-worked  No-occupation  United-States   <=50K\n",
       "20337   18  Never-worked  No-occupation  United-States   <=50K\n",
       "23232   20  Never-worked  No-occupation  United-States   <=50K\n",
       "32304   30  Never-worked  No-occupation  United-States   <=50K\n",
       "32314   18  Never-worked  No-occupation  United-States   <=50K\n",
       "8784    17  Never-worked  No-occupation  United-States  <=50K.\n",
       "11606   20  Never-worked  No-occupation  United-States  <=50K.\n",
       "13897   18  Never-worked  No-occupation  United-States  <=50K."
      ]
     },
     "execution_count": 5154,
     "metadata": {},
     "output_type": "execute_result"
    }
   ],
   "source": [
    "df.loc[\n",
    "    (df['occupation'].isna()) & (df['workclass'] == 'Never-worked'),\n",
    "    'occupation'\n",
    "] = 'No-occupation'\n",
    "\n",
    "df[df['workclass'] == 'Never-worked'][['age', 'workclass', 'occupation', 'native country', 'income']]"
   ]
  },
  {
   "cell_type": "code",
   "execution_count": 5155,
   "id": "8ff9c0a5",
   "metadata": {},
   "outputs": [
    {
     "name": "stdout",
     "output_type": "stream",
     "text": [
      "          Columna  Valores Faltantes\n",
      "0       workclass               2799\n",
      "1      occupation               2799\n",
      "2  native country                857\n"
     ]
    }
   ],
   "source": [
    "missing_data = (df.isna().sum()\n",
    "                  .pipe(lambda s: s[s > 0]) # Filtro solo aquellas campos que tengan valores faltantes\n",
    "                  .sort_values(ascending=False)\n",
    "                  .reset_index())\n",
    "\n",
    "missing_data.columns = ['Columna', 'Valores Faltantes']\n",
    "print(missing_data)"
   ]
  },
  {
   "cell_type": "markdown",
   "id": "6f60e53b",
   "metadata": {},
   "source": [
    "Como puedo ambas coinciden. Vamos a hacer un análisis mas profundp"
   ]
  },
  {
   "cell_type": "code",
   "execution_count": 5156,
   "id": "940e452f",
   "metadata": {},
   "outputs": [
    {
     "data": {
      "text/plain": [
       "{'Total NaN en occupation': np.int64(2799),\n",
       " 'Total NaN en workclass': np.int64(2799),\n",
       " 'Filas con NaN en ambas': 2799,\n",
       " '% de NaN en occupation que también son NaN en workclass': np.float64(100.0)}"
      ]
     },
     "execution_count": 5156,
     "metadata": {},
     "output_type": "execute_result"
    }
   ],
   "source": [
    "occupation_nan = df['occupation'].isna()\n",
    "workclass_nan = df['workclass'].isna()\n",
    "\n",
    "# Cantidad de filas donde ambas columnas son NaN\n",
    "both_nan = df[occupation_nan & workclass_nan].shape[0]\n",
    "\n",
    "# Total de NaN por separado\n",
    "total_occupation_nan = occupation_nan.sum()\n",
    "total_workclass_nan = workclass_nan.sum()\n",
    "\n",
    "# Porcentaje de NaN en 'occupation' que también tienen NaN en 'workclass'\n",
    "pct_occupation_depends_on_workclass = (both_nan / total_occupation_nan) * 100 if total_occupation_nan else 0\n",
    "\n",
    "# resumen\n",
    "summary_analysis = {\n",
    "    'Total NaN en occupation': total_occupation_nan,\n",
    "    'Total NaN en workclass': total_workclass_nan,\n",
    "    'Filas con NaN en ambas': both_nan,\n",
    "    '% de NaN en occupation que también son NaN en workclass': round(pct_occupation_depends_on_workclass, 2),\n",
    "}\n",
    "summary_analysis"
   ]
  },
  {
   "cell_type": "markdown",
   "id": "80daaa20",
   "metadata": {},
   "source": [
    "Esto indica que hay una dependencia muy fuerte y estamos frente al patrón MAR (Missing At Random). <br>\n",
    "Debido a que ambas son categóricas y estan estrechamente relacionadas la una con la otra. Se decide imputar una categoria artificial como 'Unknown'."
   ]
  },
  {
   "cell_type": "code",
   "execution_count": 5157,
   "id": "8799f4ab",
   "metadata": {},
   "outputs": [
    {
     "data": {
      "text/plain": [
       "workclass     0\n",
       "occupation    0\n",
       "dtype: int64"
      ]
     },
     "execution_count": 5157,
     "metadata": {},
     "output_type": "execute_result"
    }
   ],
   "source": [
    "# Imputar valores faltantes con 'Unknown'\n",
    "df['workclass'].fillna('Unknown', inplace=True)\n",
    "df['occupation'].fillna('Unknown', inplace=True)\n",
    "\n",
    "# Verificar que ya no existan NaN en esas columnas\n",
    "missing_after_imputation = df[['workclass', 'occupation']].isna().sum()\n",
    "\n",
    "missing_after_imputation"
   ]
  },
  {
   "cell_type": "code",
   "execution_count": 5158,
   "id": "6e0ff462",
   "metadata": {},
   "outputs": [
    {
     "data": {
      "text/html": [
       "<div>\n",
       "<style scoped>\n",
       "    .dataframe tbody tr th:only-of-type {\n",
       "        vertical-align: middle;\n",
       "    }\n",
       "\n",
       "    .dataframe tbody tr th {\n",
       "        vertical-align: top;\n",
       "    }\n",
       "\n",
       "    .dataframe thead th {\n",
       "        text-align: right;\n",
       "    }\n",
       "</style>\n",
       "<table border=\"1\" class=\"dataframe\">\n",
       "  <thead>\n",
       "    <tr style=\"text-align: right;\">\n",
       "      <th></th>\n",
       "      <th>age</th>\n",
       "      <th>workclass</th>\n",
       "      <th>final weight</th>\n",
       "      <th>education</th>\n",
       "      <th>educationnum</th>\n",
       "      <th>marital status</th>\n",
       "      <th>occupation</th>\n",
       "      <th>relationship</th>\n",
       "      <th>race</th>\n",
       "      <th>gender</th>\n",
       "      <th>capital gain</th>\n",
       "      <th>capital loss</th>\n",
       "      <th>hours per week</th>\n",
       "      <th>native country</th>\n",
       "      <th>income</th>\n",
       "    </tr>\n",
       "  </thead>\n",
       "  <tbody>\n",
       "  </tbody>\n",
       "</table>\n",
       "</div>"
      ],
      "text/plain": [
       "Empty DataFrame\n",
       "Columns: [age, workclass, final weight, education, educationnum, marital status, occupation, relationship, race, gender, capital gain, capital loss, hours per week, native country, income]\n",
       "Index: []"
      ]
     },
     "execution_count": 5158,
     "metadata": {},
     "output_type": "execute_result"
    }
   ],
   "source": [
    "nan_rows = df[df['occupation'].isna() | df['workclass'].isna()]\n",
    "nan_rows"
   ]
  },
  {
   "cell_type": "code",
   "execution_count": 5159,
   "id": "18149564",
   "metadata": {},
   "outputs": [
    {
     "data": {
      "text/html": [
       "<div>\n",
       "<style scoped>\n",
       "    .dataframe tbody tr th:only-of-type {\n",
       "        vertical-align: middle;\n",
       "    }\n",
       "\n",
       "    .dataframe tbody tr th {\n",
       "        vertical-align: top;\n",
       "    }\n",
       "\n",
       "    .dataframe thead th {\n",
       "        text-align: right;\n",
       "    }\n",
       "</style>\n",
       "<table border=\"1\" class=\"dataframe\">\n",
       "  <thead>\n",
       "    <tr style=\"text-align: right;\">\n",
       "      <th></th>\n",
       "      <th>age</th>\n",
       "      <th>workclass</th>\n",
       "      <th>final weight</th>\n",
       "      <th>education</th>\n",
       "      <th>educationnum</th>\n",
       "      <th>marital status</th>\n",
       "      <th>occupation</th>\n",
       "      <th>relationship</th>\n",
       "      <th>race</th>\n",
       "      <th>gender</th>\n",
       "      <th>capital gain</th>\n",
       "      <th>capital loss</th>\n",
       "      <th>hours per week</th>\n",
       "      <th>native country</th>\n",
       "      <th>income</th>\n",
       "    </tr>\n",
       "  </thead>\n",
       "  <tbody>\n",
       "    <tr>\n",
       "      <th>14</th>\n",
       "      <td>40</td>\n",
       "      <td>Private</td>\n",
       "      <td>121772</td>\n",
       "      <td>Assoc-voc</td>\n",
       "      <td>11</td>\n",
       "      <td>Married-civ-spouse</td>\n",
       "      <td>Craft-repair</td>\n",
       "      <td>Husband</td>\n",
       "      <td>Asian-Pac-Islander</td>\n",
       "      <td>Male</td>\n",
       "      <td>0</td>\n",
       "      <td>0</td>\n",
       "      <td>40</td>\n",
       "      <td>NaN</td>\n",
       "      <td>&gt;50K</td>\n",
       "    </tr>\n",
       "    <tr>\n",
       "      <th>38</th>\n",
       "      <td>31</td>\n",
       "      <td>Private</td>\n",
       "      <td>84154</td>\n",
       "      <td>Some-college</td>\n",
       "      <td>10</td>\n",
       "      <td>Married-civ-spouse</td>\n",
       "      <td>Sales</td>\n",
       "      <td>Husband</td>\n",
       "      <td>White</td>\n",
       "      <td>Male</td>\n",
       "      <td>0</td>\n",
       "      <td>0</td>\n",
       "      <td>38</td>\n",
       "      <td>NaN</td>\n",
       "      <td>&gt;50K</td>\n",
       "    </tr>\n",
       "    <tr>\n",
       "      <th>51</th>\n",
       "      <td>18</td>\n",
       "      <td>Private</td>\n",
       "      <td>226956</td>\n",
       "      <td>HS-grad</td>\n",
       "      <td>9</td>\n",
       "      <td>Never-married</td>\n",
       "      <td>Other-service</td>\n",
       "      <td>Own-child</td>\n",
       "      <td>White</td>\n",
       "      <td>Female</td>\n",
       "      <td>0</td>\n",
       "      <td>0</td>\n",
       "      <td>30</td>\n",
       "      <td>NaN</td>\n",
       "      <td>&lt;=50K</td>\n",
       "    </tr>\n",
       "    <tr>\n",
       "      <th>61</th>\n",
       "      <td>32</td>\n",
       "      <td>Unknown</td>\n",
       "      <td>293936</td>\n",
       "      <td>7th-8th</td>\n",
       "      <td>4</td>\n",
       "      <td>Married-spouse-absent</td>\n",
       "      <td>Unknown</td>\n",
       "      <td>Not-in-family</td>\n",
       "      <td>White</td>\n",
       "      <td>Male</td>\n",
       "      <td>0</td>\n",
       "      <td>0</td>\n",
       "      <td>40</td>\n",
       "      <td>NaN</td>\n",
       "      <td>&lt;=50K</td>\n",
       "    </tr>\n",
       "    <tr>\n",
       "      <th>93</th>\n",
       "      <td>30</td>\n",
       "      <td>Private</td>\n",
       "      <td>117747</td>\n",
       "      <td>HS-grad</td>\n",
       "      <td>9</td>\n",
       "      <td>Married-civ-spouse</td>\n",
       "      <td>Sales</td>\n",
       "      <td>Wife</td>\n",
       "      <td>Asian-Pac-Islander</td>\n",
       "      <td>Female</td>\n",
       "      <td>0</td>\n",
       "      <td>1573</td>\n",
       "      <td>35</td>\n",
       "      <td>NaN</td>\n",
       "      <td>&lt;=50K</td>\n",
       "    </tr>\n",
       "    <tr>\n",
       "      <th>...</th>\n",
       "      <td>...</td>\n",
       "      <td>...</td>\n",
       "      <td>...</td>\n",
       "      <td>...</td>\n",
       "      <td>...</td>\n",
       "      <td>...</td>\n",
       "      <td>...</td>\n",
       "      <td>...</td>\n",
       "      <td>...</td>\n",
       "      <td>...</td>\n",
       "      <td>...</td>\n",
       "      <td>...</td>\n",
       "      <td>...</td>\n",
       "      <td>...</td>\n",
       "      <td>...</td>\n",
       "    </tr>\n",
       "    <tr>\n",
       "      <th>15683</th>\n",
       "      <td>46</td>\n",
       "      <td>Private</td>\n",
       "      <td>31411</td>\n",
       "      <td>11th</td>\n",
       "      <td>7</td>\n",
       "      <td>Married-civ-spouse</td>\n",
       "      <td>Other-service</td>\n",
       "      <td>Wife</td>\n",
       "      <td>White</td>\n",
       "      <td>Female</td>\n",
       "      <td>0</td>\n",
       "      <td>0</td>\n",
       "      <td>40</td>\n",
       "      <td>NaN</td>\n",
       "      <td>&lt;=50K.</td>\n",
       "    </tr>\n",
       "    <tr>\n",
       "      <th>15710</th>\n",
       "      <td>24</td>\n",
       "      <td>Private</td>\n",
       "      <td>127159</td>\n",
       "      <td>Some-college</td>\n",
       "      <td>10</td>\n",
       "      <td>Never-married</td>\n",
       "      <td>Other-service</td>\n",
       "      <td>Other-relative</td>\n",
       "      <td>White</td>\n",
       "      <td>Female</td>\n",
       "      <td>0</td>\n",
       "      <td>0</td>\n",
       "      <td>24</td>\n",
       "      <td>NaN</td>\n",
       "      <td>&lt;=50K.</td>\n",
       "    </tr>\n",
       "    <tr>\n",
       "      <th>16042</th>\n",
       "      <td>24</td>\n",
       "      <td>State-gov</td>\n",
       "      <td>161783</td>\n",
       "      <td>Bachelors</td>\n",
       "      <td>13</td>\n",
       "      <td>Never-married</td>\n",
       "      <td>Transport-moving</td>\n",
       "      <td>Not-in-family</td>\n",
       "      <td>Black</td>\n",
       "      <td>Male</td>\n",
       "      <td>0</td>\n",
       "      <td>0</td>\n",
       "      <td>40</td>\n",
       "      <td>NaN</td>\n",
       "      <td>&lt;=50K.</td>\n",
       "    </tr>\n",
       "    <tr>\n",
       "      <th>16089</th>\n",
       "      <td>34</td>\n",
       "      <td>Private</td>\n",
       "      <td>143776</td>\n",
       "      <td>Masters</td>\n",
       "      <td>14</td>\n",
       "      <td>Never-married</td>\n",
       "      <td>Prof-specialty</td>\n",
       "      <td>Not-in-family</td>\n",
       "      <td>Black</td>\n",
       "      <td>Male</td>\n",
       "      <td>0</td>\n",
       "      <td>0</td>\n",
       "      <td>45</td>\n",
       "      <td>NaN</td>\n",
       "      <td>&gt;50K.</td>\n",
       "    </tr>\n",
       "    <tr>\n",
       "      <th>16264</th>\n",
       "      <td>50</td>\n",
       "      <td>Local-gov</td>\n",
       "      <td>139347</td>\n",
       "      <td>Masters</td>\n",
       "      <td>14</td>\n",
       "      <td>Married-civ-spouse</td>\n",
       "      <td>Prof-specialty</td>\n",
       "      <td>Wife</td>\n",
       "      <td>White</td>\n",
       "      <td>Female</td>\n",
       "      <td>0</td>\n",
       "      <td>0</td>\n",
       "      <td>40</td>\n",
       "      <td>NaN</td>\n",
       "      <td>&gt;50K.</td>\n",
       "    </tr>\n",
       "  </tbody>\n",
       "</table>\n",
       "<p>857 rows × 15 columns</p>\n",
       "</div>"
      ],
      "text/plain": [
       "       age  workclass  final weight     education  educationnum  \\\n",
       "14      40    Private        121772     Assoc-voc            11   \n",
       "38      31    Private         84154  Some-college            10   \n",
       "51      18    Private        226956       HS-grad             9   \n",
       "61      32    Unknown        293936       7th-8th             4   \n",
       "93      30    Private        117747       HS-grad             9   \n",
       "...    ...        ...           ...           ...           ...   \n",
       "15683   46    Private         31411          11th             7   \n",
       "15710   24    Private        127159  Some-college            10   \n",
       "16042   24  State-gov        161783     Bachelors            13   \n",
       "16089   34    Private        143776       Masters            14   \n",
       "16264   50  Local-gov        139347       Masters            14   \n",
       "\n",
       "              marital status        occupation    relationship  \\\n",
       "14        Married-civ-spouse      Craft-repair         Husband   \n",
       "38        Married-civ-spouse             Sales         Husband   \n",
       "51             Never-married     Other-service       Own-child   \n",
       "61     Married-spouse-absent           Unknown   Not-in-family   \n",
       "93        Married-civ-spouse             Sales            Wife   \n",
       "...                      ...               ...             ...   \n",
       "15683     Married-civ-spouse     Other-service            Wife   \n",
       "15710          Never-married     Other-service  Other-relative   \n",
       "16042          Never-married  Transport-moving   Not-in-family   \n",
       "16089          Never-married    Prof-specialty   Not-in-family   \n",
       "16264     Married-civ-spouse    Prof-specialty            Wife   \n",
       "\n",
       "                     race  gender  capital gain  capital loss  hours per week  \\\n",
       "14     Asian-Pac-Islander    Male             0             0              40   \n",
       "38                  White    Male             0             0              38   \n",
       "51                  White  Female             0             0              30   \n",
       "61                  White    Male             0             0              40   \n",
       "93     Asian-Pac-Islander  Female             0          1573              35   \n",
       "...                   ...     ...           ...           ...             ...   \n",
       "15683               White  Female             0             0              40   \n",
       "15710               White  Female             0             0              24   \n",
       "16042               Black    Male             0             0              40   \n",
       "16089               Black    Male             0             0              45   \n",
       "16264               White  Female             0             0              40   \n",
       "\n",
       "      native country  income  \n",
       "14               NaN    >50K  \n",
       "38               NaN    >50K  \n",
       "51               NaN   <=50K  \n",
       "61               NaN   <=50K  \n",
       "93               NaN   <=50K  \n",
       "...              ...     ...  \n",
       "15683            NaN  <=50K.  \n",
       "15710            NaN  <=50K.  \n",
       "16042            NaN  <=50K.  \n",
       "16089            NaN   >50K.  \n",
       "16264            NaN   >50K.  \n",
       "\n",
       "[857 rows x 15 columns]"
      ]
     },
     "execution_count": 5159,
     "metadata": {},
     "output_type": "execute_result"
    }
   ],
   "source": [
    "df[df['native country'].isna()]"
   ]
  },
  {
   "cell_type": "markdown",
   "id": "19c1fe2a",
   "metadata": {},
   "source": [
    "Tenemos 857 valores faltantes en 'native country'"
   ]
  },
  {
   "cell_type": "code",
   "execution_count": 5160,
   "id": "e44d1a1a",
   "metadata": {},
   "outputs": [
    {
     "data": {
      "text/plain": [
       "native country\n",
       "United-States    43831\n",
       "Mexico             951\n",
       "Philippines        295\n",
       "Germany            206\n",
       "Puerto-Rico        184\n",
       "Name: count, dtype: int64"
      ]
     },
     "execution_count": 5160,
     "metadata": {},
     "output_type": "execute_result"
    }
   ],
   "source": [
    "df['native country'].value_counts()[:5]"
   ]
  },
  {
   "cell_type": "code",
   "execution_count": 5161,
   "id": "d778ecba",
   "metadata": {},
   "outputs": [
    {
     "name": "stdout",
     "output_type": "stream",
     "text": [
      "United-States\n"
     ]
    }
   ],
   "source": [
    "most_common_country = df['native country'].mode()[0]\n",
    "print(most_common_country)"
   ]
  },
  {
   "cell_type": "markdown",
   "id": "c44b4554",
   "metadata": {},
   "source": [
    "United-States es el valor más frecuente por superior a los demas. Por este motivo se decide imputar este valor al resto de valores faltante."
   ]
  },
  {
   "cell_type": "code",
   "execution_count": 5162,
   "id": "2e4ba2fc",
   "metadata": {},
   "outputs": [],
   "source": [
    "# Imputación del valor 'most_common_country' a los valores NaN\n",
    "df['native country'].fillna(most_common_country, inplace=True)"
   ]
  },
  {
   "cell_type": "markdown",
   "id": "e1d14a88",
   "metadata": {},
   "source": [
    "Dado que la frecuencia es muy grande veremos sus porcentajes para decidir si se debe eliminar o no este campo."
   ]
  },
  {
   "cell_type": "code",
   "execution_count": 5163,
   "id": "493dfd6f",
   "metadata": {},
   "outputs": [
    {
     "data": {
      "text/plain": [
       "capital gain\n",
       "0        44806\n",
       "15024      513\n",
       "7688       410\n",
       "7298       364\n",
       "99999      244\n",
       "         ...  \n",
       "1639         1\n",
       "2387         1\n",
       "7262         1\n",
       "1731         1\n",
       "6612         1\n",
       "Name: count, Length: 123, dtype: int64"
      ]
     },
     "execution_count": 5163,
     "metadata": {},
     "output_type": "execute_result"
    }
   ],
   "source": [
    "df['capital gain'].value_counts()"
   ]
  },
  {
   "cell_type": "code",
   "execution_count": 5164,
   "id": "3b121764",
   "metadata": {},
   "outputs": [
    {
     "data": {
      "text/plain": [
       "native country\n",
       "United-States    91.50\n",
       "Mexico            1.95\n",
       "Philippines       0.60\n",
       "Germany           0.42\n",
       "Puerto-Rico       0.38\n",
       "Name: proportion, dtype: float64"
      ]
     },
     "execution_count": 5164,
     "metadata": {},
     "output_type": "execute_result"
    }
   ],
   "source": [
    "(df['native country'].value_counts(normalize=True) * 100).round(2).head(5)"
   ]
  },
  {
   "cell_type": "markdown",
   "id": "9f78e92e",
   "metadata": {},
   "source": [
    "Frecuencia muy grande con el 91.51% para United-States"
   ]
  },
  {
   "cell_type": "markdown",
   "id": "e80b2dc0",
   "metadata": {},
   "source": [
    "El valor frecuente es 0. Tiene muchos valores en 0. <br>\n",
    "Verifiquemos si se cumple lo mismo con 'capital loss'"
   ]
  },
  {
   "cell_type": "code",
   "execution_count": 5165,
   "id": "b242da69",
   "metadata": {},
   "outputs": [
    {
     "data": {
      "text/plain": [
       "capital loss\n",
       "0       46559\n",
       "1902      304\n",
       "1977      253\n",
       "1887      233\n",
       "2415       72\n",
       "        ...  \n",
       "2201        1\n",
       "1870        1\n",
       "1911        1\n",
       "2465        1\n",
       "1421        1\n",
       "Name: count, Length: 99, dtype: int64"
      ]
     },
     "execution_count": 5165,
     "metadata": {},
     "output_type": "execute_result"
    }
   ],
   "source": [
    "df['capital loss'].value_counts()"
   ]
  },
  {
   "cell_type": "code",
   "execution_count": 5166,
   "id": "577abe72",
   "metadata": {},
   "outputs": [
    {
     "name": "stdout",
     "output_type": "stream",
     "text": [
      "91.74%  95.33%\n"
     ]
    }
   ],
   "source": [
    "pct_gain_0 = (df['capital gain'] == 0).mean() * 100\n",
    "pct_loss_0 = (df['capital loss'] == 0).mean() * 100\n",
    "\n",
    "print(f\"{round(pct_gain_0, 2)}%  {round(pct_loss_0, 2)}%\")"
   ]
  },
  {
   "cell_type": "markdown",
   "id": "9a6c7184",
   "metadata": {},
   "source": [
    "Tenemos el 91.73% para 'capital gain' y 95.32% para 'capital loss' con valores 0. Al ser tan grande esta cantidad de valores en 0. <br>\n",
    "Estos campos representan la ganancia o perdida financiera del individuo.<br>\n",
    "Se decide descartar los campos ya que esto puede afectar la presición de los algoritmos de machine learning"
   ]
  },
  {
   "cell_type": "code",
   "execution_count": 5167,
   "id": "90df8da1",
   "metadata": {},
   "outputs": [],
   "source": [
    "df.drop(columns=['capital gain', 'capital loss'], inplace=True)"
   ]
  },
  {
   "cell_type": "markdown",
   "id": "a5cd4a59",
   "metadata": {},
   "source": [
    "Verifiquemos el campo mas importante 'income' debido que contiene nuestra variable objetivo (target)"
   ]
  },
  {
   "cell_type": "code",
   "execution_count": 5168,
   "id": "188ad268",
   "metadata": {},
   "outputs": [
    {
     "data": {
      "text/plain": [
       "array(['<=50K', '>50K', '<=50K.', '>50K.'], dtype=object)"
      ]
     },
     "execution_count": 5168,
     "metadata": {},
     "output_type": "execute_result"
    }
   ],
   "source": [
    "df['income'].unique()"
   ]
  },
  {
   "cell_type": "markdown",
   "id": "3575c9d7",
   "metadata": {},
   "source": [
    "Se puede observar que se debe hacer una limpieza de este valor."
   ]
  },
  {
   "cell_type": "code",
   "execution_count": 5169,
   "id": "f0d02169",
   "metadata": {},
   "outputs": [
    {
     "data": {
      "text/plain": [
       "array(['<=50K', '>50K'], dtype=object)"
      ]
     },
     "execution_count": 5169,
     "metadata": {},
     "output_type": "execute_result"
    }
   ],
   "source": [
    "df['income'] = df['income'].str.strip().str.replace('.', '', regex=False)\n",
    "df['income'].unique()"
   ]
  },
  {
   "cell_type": "code",
   "execution_count": 5170,
   "id": "7951480c",
   "metadata": {},
   "outputs": [
    {
     "data": {
      "text/plain": [
       "final weight\n",
       "203488    21\n",
       "120277    19\n",
       "190290    19\n",
       "125892    18\n",
       "126569    18\n",
       "          ..\n",
       "121676     1\n",
       "114865     1\n",
       "236197     1\n",
       "607658     1\n",
       "411037     1\n",
       "Name: count, Length: 28522, dtype: int64"
      ]
     },
     "execution_count": 5170,
     "metadata": {},
     "output_type": "execute_result"
    }
   ],
   "source": [
    "df['final weight'].value_counts()"
   ]
  },
  {
   "cell_type": "code",
   "execution_count": 5171,
   "id": "48851c06",
   "metadata": {},
   "outputs": [
    {
     "data": {
      "text/html": [
       "<div>\n",
       "<style scoped>\n",
       "    .dataframe tbody tr th:only-of-type {\n",
       "        vertical-align: middle;\n",
       "    }\n",
       "\n",
       "    .dataframe tbody tr th {\n",
       "        vertical-align: top;\n",
       "    }\n",
       "\n",
       "    .dataframe thead th {\n",
       "        text-align: right;\n",
       "    }\n",
       "</style>\n",
       "<table border=\"1\" class=\"dataframe\">\n",
       "  <thead>\n",
       "    <tr style=\"text-align: right;\">\n",
       "      <th></th>\n",
       "      <th>age</th>\n",
       "      <th>workclass</th>\n",
       "      <th>education</th>\n",
       "      <th>final weight</th>\n",
       "      <th>occupation</th>\n",
       "      <th>income</th>\n",
       "    </tr>\n",
       "  </thead>\n",
       "  <tbody>\n",
       "    <tr>\n",
       "      <th>11345</th>\n",
       "      <td>45</td>\n",
       "      <td>Private</td>\n",
       "      <td>HS-grad</td>\n",
       "      <td>157980</td>\n",
       "      <td>Adm-clerical</td>\n",
       "      <td>&lt;=50K</td>\n",
       "    </tr>\n",
       "    <tr>\n",
       "      <th>22776</th>\n",
       "      <td>26</td>\n",
       "      <td>Private</td>\n",
       "      <td>Some-college</td>\n",
       "      <td>132749</td>\n",
       "      <td>Other-service</td>\n",
       "      <td>&lt;=50K</td>\n",
       "    </tr>\n",
       "    <tr>\n",
       "      <th>15700</th>\n",
       "      <td>21</td>\n",
       "      <td>Private</td>\n",
       "      <td>HS-grad</td>\n",
       "      <td>164177</td>\n",
       "      <td>Craft-repair</td>\n",
       "      <td>&lt;=50K</td>\n",
       "    </tr>\n",
       "    <tr>\n",
       "      <th>12557</th>\n",
       "      <td>21</td>\n",
       "      <td>Private</td>\n",
       "      <td>Some-college</td>\n",
       "      <td>24598</td>\n",
       "      <td>Other-service</td>\n",
       "      <td>&lt;=50K</td>\n",
       "    </tr>\n",
       "    <tr>\n",
       "      <th>15140</th>\n",
       "      <td>32</td>\n",
       "      <td>Self-emp-not-inc</td>\n",
       "      <td>Some-college</td>\n",
       "      <td>154950</td>\n",
       "      <td>Craft-repair</td>\n",
       "      <td>&lt;=50K</td>\n",
       "    </tr>\n",
       "    <tr>\n",
       "      <th>2043</th>\n",
       "      <td>29</td>\n",
       "      <td>Private</td>\n",
       "      <td>Bachelors</td>\n",
       "      <td>271710</td>\n",
       "      <td>Prof-specialty</td>\n",
       "      <td>&gt;50K</td>\n",
       "    </tr>\n",
       "    <tr>\n",
       "      <th>22982</th>\n",
       "      <td>21</td>\n",
       "      <td>Private</td>\n",
       "      <td>Some-college</td>\n",
       "      <td>204596</td>\n",
       "      <td>Other-service</td>\n",
       "      <td>&lt;=50K</td>\n",
       "    </tr>\n",
       "    <tr>\n",
       "      <th>14916</th>\n",
       "      <td>38</td>\n",
       "      <td>Private</td>\n",
       "      <td>Bachelors</td>\n",
       "      <td>297449</td>\n",
       "      <td>Adm-clerical</td>\n",
       "      <td>&gt;50K</td>\n",
       "    </tr>\n",
       "    <tr>\n",
       "      <th>12720</th>\n",
       "      <td>43</td>\n",
       "      <td>Private</td>\n",
       "      <td>Some-college</td>\n",
       "      <td>55764</td>\n",
       "      <td>Handlers-cleaners</td>\n",
       "      <td>&lt;=50K</td>\n",
       "    </tr>\n",
       "    <tr>\n",
       "      <th>26228</th>\n",
       "      <td>21</td>\n",
       "      <td>Private</td>\n",
       "      <td>Some-college</td>\n",
       "      <td>118401</td>\n",
       "      <td>Other-service</td>\n",
       "      <td>&lt;=50K</td>\n",
       "    </tr>\n",
       "  </tbody>\n",
       "</table>\n",
       "</div>"
      ],
      "text/plain": [
       "       age         workclass     education  final weight         occupation  \\\n",
       "11345   45           Private       HS-grad        157980       Adm-clerical   \n",
       "22776   26           Private  Some-college        132749      Other-service   \n",
       "15700   21           Private       HS-grad        164177       Craft-repair   \n",
       "12557   21           Private  Some-college         24598      Other-service   \n",
       "15140   32  Self-emp-not-inc  Some-college        154950       Craft-repair   \n",
       "2043    29           Private     Bachelors        271710     Prof-specialty   \n",
       "22982   21           Private  Some-college        204596      Other-service   \n",
       "14916   38           Private     Bachelors        297449       Adm-clerical   \n",
       "12720   43           Private  Some-college         55764  Handlers-cleaners   \n",
       "26228   21           Private  Some-college        118401      Other-service   \n",
       "\n",
       "      income  \n",
       "11345  <=50K  \n",
       "22776  <=50K  \n",
       "15700  <=50K  \n",
       "12557  <=50K  \n",
       "15140  <=50K  \n",
       "2043    >50K  \n",
       "22982  <=50K  \n",
       "14916   >50K  \n",
       "12720  <=50K  \n",
       "26228  <=50K  "
      ]
     },
     "execution_count": 5171,
     "metadata": {},
     "output_type": "execute_result"
    }
   ],
   "source": [
    "sample_final_weight = df[['age', 'workclass', 'education', 'final weight', 'occupation', 'income']].sample(10, random_state=42)\n",
    "sample_final_weight"
   ]
  },
  {
   "cell_type": "markdown",
   "id": "395c2ede",
   "metadata": {},
   "source": [
    "El campo `final weight` es una variable de muestreo poblacional (para inferencia estadística representativa, no para clasificación individual). Esto indica que este campo no nos sirve porque no aporta valor predictivo directo. <br>\n",
    "Por lo tanto, se procede imputar dicho campo."
   ]
  },
  {
   "cell_type": "code",
   "execution_count": 5172,
   "id": "5d472420",
   "metadata": {},
   "outputs": [],
   "source": [
    "df.drop(columns='final weight', inplace=True)"
   ]
  },
  {
   "cell_type": "markdown",
   "id": "c2961c97",
   "metadata": {},
   "source": [
    "La columna educationnum contiene el número asociado a la descripción del campo 'education'. Por este motivo, se procede a eliminar el campo 'education' y se conserva el campo 'educationnum'"
   ]
  },
  {
   "cell_type": "code",
   "execution_count": 5173,
   "id": "9781ad9a",
   "metadata": {},
   "outputs": [],
   "source": [
    "df.drop(columns='education', inplace=True)"
   ]
  },
  {
   "cell_type": "markdown",
   "id": "6ace327d",
   "metadata": {},
   "source": [
    "# 4.  ANÁLISIS Y VISUALIZACIÓN"
   ]
  },
  {
   "cell_type": "markdown",
   "id": "9c92c81b",
   "metadata": {},
   "source": [
    "Utilizamos `describe` para tener un resumen a alto nivel de las variables."
   ]
  },
  {
   "cell_type": "code",
   "execution_count": 5174,
   "id": "d939082a",
   "metadata": {},
   "outputs": [
    {
     "data": {
      "text/html": [
       "<div>\n",
       "<style scoped>\n",
       "    .dataframe tbody tr th:only-of-type {\n",
       "        vertical-align: middle;\n",
       "    }\n",
       "\n",
       "    .dataframe tbody tr th {\n",
       "        vertical-align: top;\n",
       "    }\n",
       "\n",
       "    .dataframe thead th {\n",
       "        text-align: right;\n",
       "    }\n",
       "</style>\n",
       "<table border=\"1\" class=\"dataframe\">\n",
       "  <thead>\n",
       "    <tr style=\"text-align: right;\">\n",
       "      <th></th>\n",
       "      <th>age</th>\n",
       "      <th>educationnum</th>\n",
       "      <th>hours per week</th>\n",
       "    </tr>\n",
       "  </thead>\n",
       "  <tbody>\n",
       "    <tr>\n",
       "      <th>count</th>\n",
       "      <td>48841.000000</td>\n",
       "      <td>48841.000000</td>\n",
       "      <td>48841.000000</td>\n",
       "    </tr>\n",
       "    <tr>\n",
       "      <th>mean</th>\n",
       "      <td>38.643865</td>\n",
       "      <td>10.078152</td>\n",
       "      <td>40.422391</td>\n",
       "    </tr>\n",
       "    <tr>\n",
       "      <th>std</th>\n",
       "      <td>13.710511</td>\n",
       "      <td>2.570961</td>\n",
       "      <td>12.391571</td>\n",
       "    </tr>\n",
       "    <tr>\n",
       "      <th>min</th>\n",
       "      <td>17.000000</td>\n",
       "      <td>1.000000</td>\n",
       "      <td>1.000000</td>\n",
       "    </tr>\n",
       "    <tr>\n",
       "      <th>25%</th>\n",
       "      <td>28.000000</td>\n",
       "      <td>9.000000</td>\n",
       "      <td>40.000000</td>\n",
       "    </tr>\n",
       "    <tr>\n",
       "      <th>50%</th>\n",
       "      <td>37.000000</td>\n",
       "      <td>10.000000</td>\n",
       "      <td>40.000000</td>\n",
       "    </tr>\n",
       "    <tr>\n",
       "      <th>75%</th>\n",
       "      <td>48.000000</td>\n",
       "      <td>12.000000</td>\n",
       "      <td>45.000000</td>\n",
       "    </tr>\n",
       "    <tr>\n",
       "      <th>max</th>\n",
       "      <td>90.000000</td>\n",
       "      <td>16.000000</td>\n",
       "      <td>99.000000</td>\n",
       "    </tr>\n",
       "  </tbody>\n",
       "</table>\n",
       "</div>"
      ],
      "text/plain": [
       "                age  educationnum  hours per week\n",
       "count  48841.000000  48841.000000    48841.000000\n",
       "mean      38.643865     10.078152       40.422391\n",
       "std       13.710511      2.570961       12.391571\n",
       "min       17.000000      1.000000        1.000000\n",
       "25%       28.000000      9.000000       40.000000\n",
       "50%       37.000000     10.000000       40.000000\n",
       "75%       48.000000     12.000000       45.000000\n",
       "max       90.000000     16.000000       99.000000"
      ]
     },
     "execution_count": 5174,
     "metadata": {},
     "output_type": "execute_result"
    }
   ],
   "source": [
    "df.describe()"
   ]
  },
  {
   "cell_type": "markdown",
   "id": "d082928f",
   "metadata": {},
   "source": [
    "* age: tiene un promedio razonable de edad en 38 años con una mediana bien distribuida 37 años y con amplio rango 17 hasta 90 años\n",
    "* hours per week: muy concentrada en los 40 horas. Valores extremos (1 a 99) pero con media y mediana muy coherentes"
   ]
  },
  {
   "cell_type": "markdown",
   "id": "341018f1",
   "metadata": {},
   "source": [
    "### Definición de métodos para la visualización"
   ]
  },
  {
   "cell_type": "code",
   "execution_count": 5175,
   "id": "ebebb2be",
   "metadata": {},
   "outputs": [],
   "source": [
    "def add_value_labels(ax, spacing=5):\n",
    "    \"\"\"\n",
    "    Agrega etiquetas de valor encima de cada barra en un gráfico de barras.\n",
    "    \n",
    "    Parámetros:\n",
    "    - ax: objeto matplotlib Axes con el gráfico de barras ya dibujado.\n",
    "    - spacing: espacio vertical entre la barra y el texto (en puntos).\n",
    "    \"\"\"\n",
    "\n",
    "    for bar in ax.patches:\n",
    "        # Centro horizontal de la barra\n",
    "        x_pos = bar.get_x() + bar.get_width() / 2\n",
    "        \n",
    "        # Altura de la barra (valor a mostrar)\n",
    "        height = bar.get_height() - 4\n",
    "        \n",
    "        # Alineación vertical y desplazamiento\n",
    "        vertical_align = 'bottom' if height >= 0 else 'top'\n",
    "        vertical_shift = spacing if height >= 0 else -spacing\n",
    "        \n",
    "        # Etiqueta formateada\n",
    "        label_text = f\"{int(height)}\"\n",
    "        \n",
    "        # Agregar anotación\n",
    "        ax.annotate(\n",
    "            label_text,\n",
    "            xy=(x_pos, height),\n",
    "            xytext=(0, vertical_shift),\n",
    "            textcoords=\"offset points\",\n",
    "            ha='center',\n",
    "            va=vertical_align\n",
    "        )"
   ]
  },
  {
   "cell_type": "code",
   "execution_count": 5176,
   "id": "06203551",
   "metadata": {},
   "outputs": [
    {
     "data": {
      "image/png": "[encoded data removed]",
      "text/plain": [
       "<Figure size 1000x500 with 1 Axes>"
      ]
     },
     "metadata": {},
     "output_type": "display_data"
    }
   ],
   "source": [
    "# Edad\n",
    "plt.figure(figsize=(10, 5))\n",
    "sns.histplot(df['age'], bins=30, kde=True, color='steelblue')\n",
    "plt.title('Distribución de edad')\n",
    "plt.xlabel('Edad')\n",
    "plt.ylabel('Frecuencia')\n",
    "plt.grid(True)\n",
    "plt.tight_layout()\n",
    "plt.show()"
   ]
  },
  {
   "cell_type": "markdown",
   "id": "181309e9",
   "metadata": {},
   "source": [
    "La distribución tiene forma asimétrica negativa. Hay más individuos jóvenes que mayores.<br>\n",
    "Hay un pico entre los 20 y 40 años.<br>\n",
    "<br>\n",
    "El campo `age` está bien distribuida.<br>\n",
    "No tiene valores faltantes ni outliers extremos.<br>"
   ]
  },
  {
   "cell_type": "code",
   "execution_count": 5177,
   "id": "00d8d312",
   "metadata": {},
   "outputs": [
    {
     "data": {
      "image/png": "[encoded data removed]",
      "text/plain": [
       "<Figure size 600x500 with 1 Axes>"
      ]
     },
     "metadata": {},
     "output_type": "display_data"
    }
   ],
   "source": [
    "# Obtener los valores y el orden deseado\n",
    "income_counts = df['income'].value_counts()\n",
    "order = income_counts.index.tolist()\n",
    "\n",
    "fig, ax = plt.subplots(figsize=(6, 5))\n",
    "\n",
    "sns.countplot(data=df, x='income', order=order, palette=\"Blues_r\", ax=ax)\n",
    "add_value_labels(ax)"
   ]
  },
  {
   "cell_type": "markdown",
   "id": "6eeb10d5",
   "metadata": {},
   "source": [
    "Podemos observar que 37,150 personas ganan menos de 50.000 USD al año frente 11.683 personas que ganan mas de 50.000 USD al año"
   ]
  },
  {
   "cell_type": "code",
   "execution_count": 5178,
   "id": "23e94779",
   "metadata": {},
   "outputs": [
    {
     "data": {
      "image/png": "[encoded data removed]",
      "text/plain": [
       "<Figure size 1000x500 with 1 Axes>"
      ]
     },
     "metadata": {},
     "output_type": "display_data"
    },
    {
     "data": {
      "text/html": [
       "<div>\n",
       "<style scoped>\n",
       "    .dataframe tbody tr th:only-of-type {\n",
       "        vertical-align: middle;\n",
       "    }\n",
       "\n",
       "    .dataframe tbody tr th {\n",
       "        vertical-align: top;\n",
       "    }\n",
       "\n",
       "    .dataframe thead th {\n",
       "        text-align: right;\n",
       "    }\n",
       "</style>\n",
       "<table border=\"1\" class=\"dataframe\">\n",
       "  <thead>\n",
       "    <tr style=\"text-align: right;\">\n",
       "      <th></th>\n",
       "      <th>marital status</th>\n",
       "      <th>frecuencia</th>\n",
       "      <th>porcentaje</th>\n",
       "    </tr>\n",
       "  </thead>\n",
       "  <tbody>\n",
       "    <tr>\n",
       "      <th>0</th>\n",
       "      <td>Married-civ-spouse</td>\n",
       "      <td>22379</td>\n",
       "      <td>45.820110</td>\n",
       "    </tr>\n",
       "    <tr>\n",
       "      <th>1</th>\n",
       "      <td>Never-married</td>\n",
       "      <td>16116</td>\n",
       "      <td>32.996867</td>\n",
       "    </tr>\n",
       "    <tr>\n",
       "      <th>2</th>\n",
       "      <td>Divorced</td>\n",
       "      <td>6633</td>\n",
       "      <td>13.580803</td>\n",
       "    </tr>\n",
       "    <tr>\n",
       "      <th>3</th>\n",
       "      <td>Separated</td>\n",
       "      <td>1530</td>\n",
       "      <td>3.132614</td>\n",
       "    </tr>\n",
       "    <tr>\n",
       "      <th>4</th>\n",
       "      <td>Widowed</td>\n",
       "      <td>1518</td>\n",
       "      <td>3.108044</td>\n",
       "    </tr>\n",
       "    <tr>\n",
       "      <th>5</th>\n",
       "      <td>Married-spouse-absent</td>\n",
       "      <td>628</td>\n",
       "      <td>1.285805</td>\n",
       "    </tr>\n",
       "    <tr>\n",
       "      <th>6</th>\n",
       "      <td>Married-AF-spouse</td>\n",
       "      <td>37</td>\n",
       "      <td>0.075756</td>\n",
       "    </tr>\n",
       "  </tbody>\n",
       "</table>\n",
       "</div>"
      ],
      "text/plain": [
       "          marital status  frecuencia  porcentaje\n",
       "0     Married-civ-spouse       22379   45.820110\n",
       "1          Never-married       16116   32.996867\n",
       "2               Divorced        6633   13.580803\n",
       "3              Separated        1530    3.132614\n",
       "4                Widowed        1518    3.108044\n",
       "5  Married-spouse-absent         628    1.285805\n",
       "6      Married-AF-spouse          37    0.075756"
      ]
     },
     "execution_count": 5178,
     "metadata": {},
     "output_type": "execute_result"
    }
   ],
   "source": [
    "# Gráfico de barras\n",
    "plt.figure(figsize=(10, 5))\n",
    "sns.countplot(data=df, y='marital status', hue='marital status', order=df['marital status'].value_counts().index, palette='Set2')\n",
    "plt.title('Distribución de Marital Status')\n",
    "plt.xlabel('Frecuencia')\n",
    "plt.ylabel('Estado civil')\n",
    "plt.grid(axis='x')\n",
    "plt.tight_layout()\n",
    "plt.show()\n",
    "\n",
    "# Análisis de la columna 'marital status'\n",
    "marital_counts = df['marital status'].value_counts(dropna=False).reset_index()\n",
    "marital_counts.columns = ['marital status', 'frecuencia']\n",
    "marital_counts['porcentaje'] = 100 * marital_counts['frecuencia'] / len(df)\n",
    "marital_counts"
   ]
  },
  {
   "cell_type": "markdown",
   "id": "f6fa1a22",
   "metadata": {},
   "source": [
    "* La mayoría de los individuos están casados legalmente o nunca se casaron.<br>\n",
    "* Puede haber relación con income (por ejemplo, personas casadas pueden tener ingresos más altos)."
   ]
  },
  {
   "cell_type": "code",
   "execution_count": 5179,
   "id": "4b39f2ce",
   "metadata": {},
   "outputs": [
    {
     "data": {
      "image/png": "[encoded data removed]",
      "text/plain": [
       "<Figure size 1200x600 with 2 Axes>"
      ]
     },
     "metadata": {},
     "output_type": "display_data"
    }
   ],
   "source": [
    "plt.figure(figsize=(12,6))\n",
    "\n",
    "plt.subplot(1,2,1)\n",
    "plt.title('gender', size=14)\n",
    "plot=sns.countplot(data=df, x='gender', palette = \"dark\")\n",
    "add_value_labels(plot)\n",
    "\n",
    "plt.subplot(1,2,2)\n",
    "plt.title('race', size=14)\n",
    "plot=sns.countplot(data=df, x='race', palette = \"bright\")\n",
    "plt.xticks(rotation=75)\n",
    "add_value_labels(plot)"
   ]
  },
  {
   "cell_type": "markdown",
   "id": "8c7d2cd2",
   "metadata": {},
   "source": [
    "GERDER <br>\n",
    "* hombres: 32645 representan un 66.8% aproximadamente.<br>\n",
    "* mujeres: 16,188 representan un 33.2% aproximadamente.<br>\n",
    "<br>\n",
    "Se observa una mayor presencia de personas del género masculino.<br>\n",
    "Esta desproporción puede impactar en variables relacionadas con ocupación, ingresos, y horas trabajadas por semana.<br>\n",
    "\n",
    "RACE<br>\n",
    "* El dataset está fuertemente dominado por personas identificadas como \"White\" (blancas).\n",
    "\n"
   ]
  },
  {
   "cell_type": "code",
   "execution_count": 5180,
   "id": "a40a3f03",
   "metadata": {},
   "outputs": [
    {
     "data": {
      "image/png": "[encoded data removed]",
      "text/plain": [
       "<Figure size 1500x600 with 1 Axes>"
      ]
     },
     "metadata": {},
     "output_type": "display_data"
    }
   ],
   "source": [
    "Workclass_data=df['workclass'].value_counts()\n",
    "order= list(Workclass_data.index)\n",
    "\n",
    "plt.figure(figsize=(15,6))\n",
    "plot= sns.countplot(data=df, y='workclass', orient=\"h\", order=order,  palette = \"pastel\")"
   ]
  },
  {
   "cell_type": "code",
   "execution_count": 5181,
   "id": "7e2f1990",
   "metadata": {},
   "outputs": [
    {
     "data": {
      "image/png": "[encoded data removed]",
      "text/plain": [
       "<Figure size 1200x600 with 1 Axes>"
      ]
     },
     "metadata": {},
     "output_type": "display_data"
    },
    {
     "data": {
      "text/html": [
       "<div>\n",
       "<style scoped>\n",
       "    .dataframe tbody tr th:only-of-type {\n",
       "        vertical-align: middle;\n",
       "    }\n",
       "\n",
       "    .dataframe tbody tr th {\n",
       "        vertical-align: top;\n",
       "    }\n",
       "\n",
       "    .dataframe thead th {\n",
       "        text-align: right;\n",
       "    }\n",
       "</style>\n",
       "<table border=\"1\" class=\"dataframe\">\n",
       "  <thead>\n",
       "    <tr style=\"text-align: right;\">\n",
       "      <th></th>\n",
       "      <th>occupation</th>\n",
       "      <th>frecuencia</th>\n",
       "      <th>porcentaje</th>\n",
       "    </tr>\n",
       "  </thead>\n",
       "  <tbody>\n",
       "    <tr>\n",
       "      <th>0</th>\n",
       "      <td>Prof-specialty</td>\n",
       "      <td>6172</td>\n",
       "      <td>12.636924</td>\n",
       "    </tr>\n",
       "    <tr>\n",
       "      <th>1</th>\n",
       "      <td>Craft-repair</td>\n",
       "      <td>6112</td>\n",
       "      <td>12.514076</td>\n",
       "    </tr>\n",
       "    <tr>\n",
       "      <th>2</th>\n",
       "      <td>Exec-managerial</td>\n",
       "      <td>6086</td>\n",
       "      <td>12.460842</td>\n",
       "    </tr>\n",
       "    <tr>\n",
       "      <th>3</th>\n",
       "      <td>Adm-clerical</td>\n",
       "      <td>5611</td>\n",
       "      <td>11.488299</td>\n",
       "    </tr>\n",
       "    <tr>\n",
       "      <th>4</th>\n",
       "      <td>Sales</td>\n",
       "      <td>5504</td>\n",
       "      <td>11.269221</td>\n",
       "    </tr>\n",
       "    <tr>\n",
       "      <th>5</th>\n",
       "      <td>Other-service</td>\n",
       "      <td>4923</td>\n",
       "      <td>10.079646</td>\n",
       "    </tr>\n",
       "    <tr>\n",
       "      <th>6</th>\n",
       "      <td>Machine-op-inspct</td>\n",
       "      <td>3021</td>\n",
       "      <td>6.185377</td>\n",
       "    </tr>\n",
       "    <tr>\n",
       "      <th>7</th>\n",
       "      <td>Unknown</td>\n",
       "      <td>2799</td>\n",
       "      <td>5.730841</td>\n",
       "    </tr>\n",
       "    <tr>\n",
       "      <th>8</th>\n",
       "      <td>Transport-moving</td>\n",
       "      <td>2355</td>\n",
       "      <td>4.821769</td>\n",
       "    </tr>\n",
       "    <tr>\n",
       "      <th>9</th>\n",
       "      <td>Handlers-cleaners</td>\n",
       "      <td>2072</td>\n",
       "      <td>4.242337</td>\n",
       "    </tr>\n",
       "    <tr>\n",
       "      <th>10</th>\n",
       "      <td>Farming-fishing</td>\n",
       "      <td>1490</td>\n",
       "      <td>3.050716</td>\n",
       "    </tr>\n",
       "    <tr>\n",
       "      <th>11</th>\n",
       "      <td>Tech-support</td>\n",
       "      <td>1446</td>\n",
       "      <td>2.960627</td>\n",
       "    </tr>\n",
       "    <tr>\n",
       "      <th>12</th>\n",
       "      <td>Protective-serv</td>\n",
       "      <td>983</td>\n",
       "      <td>2.012653</td>\n",
       "    </tr>\n",
       "    <tr>\n",
       "      <th>13</th>\n",
       "      <td>Priv-house-serv</td>\n",
       "      <td>242</td>\n",
       "      <td>0.495485</td>\n",
       "    </tr>\n",
       "    <tr>\n",
       "      <th>14</th>\n",
       "      <td>Armed-Forces</td>\n",
       "      <td>15</td>\n",
       "      <td>0.030712</td>\n",
       "    </tr>\n",
       "    <tr>\n",
       "      <th>15</th>\n",
       "      <td>No-occupation</td>\n",
       "      <td>10</td>\n",
       "      <td>0.020475</td>\n",
       "    </tr>\n",
       "  </tbody>\n",
       "</table>\n",
       "</div>"
      ],
      "text/plain": [
       "           occupation  frecuencia  porcentaje\n",
       "0      Prof-specialty        6172   12.636924\n",
       "1        Craft-repair        6112   12.514076\n",
       "2     Exec-managerial        6086   12.460842\n",
       "3        Adm-clerical        5611   11.488299\n",
       "4               Sales        5504   11.269221\n",
       "5       Other-service        4923   10.079646\n",
       "6   Machine-op-inspct        3021    6.185377\n",
       "7             Unknown        2799    5.730841\n",
       "8    Transport-moving        2355    4.821769\n",
       "9   Handlers-cleaners        2072    4.242337\n",
       "10    Farming-fishing        1490    3.050716\n",
       "11       Tech-support        1446    2.960627\n",
       "12    Protective-serv         983    2.012653\n",
       "13    Priv-house-serv         242    0.495485\n",
       "14       Armed-Forces          15    0.030712\n",
       "15      No-occupation          10    0.020475"
      ]
     },
     "execution_count": 5181,
     "metadata": {},
     "output_type": "execute_result"
    }
   ],
   "source": [
    "# Análisis de la columna 'occupation'\n",
    "occupation_counts = df['occupation'].value_counts(dropna=False).reset_index()\n",
    "occupation_counts.columns = ['occupation', 'frecuencia']\n",
    "occupation_counts['porcentaje'] = 100 * occupation_counts['frecuencia'] / len(df)\n",
    "\n",
    "# Gráfico de barras\n",
    "plt.figure(figsize=(12, 6))\n",
    "sns.countplot(data=df, y='occupation', hue='occupation', order=df['occupation'].value_counts().index, palette='coolwarm')\n",
    "plt.title('Distribución de Occupation')\n",
    "plt.xlabel('Frecuencia')\n",
    "plt.ylabel('Ocupación')\n",
    "plt.grid(axis='x')\n",
    "plt.tight_layout()\n",
    "plt.show()\n",
    "\n",
    "occupation_counts"
   ]
  },
  {
   "cell_type": "code",
   "execution_count": null,
   "id": "e46c8cee",
   "metadata": {},
   "outputs": [
    {
     "data": {
      "text/plain": [
       "Text(0.5, 1.0, 'Relationship Distribution')"
      ]
     },
     "execution_count": 5182,
     "metadata": {},
     "output_type": "execute_result"
    },
    {
     "data": {
      "image/png": "[encoded data removed]",
      "text/plain": [
       "<Figure size 1200x600 with 2 Axes>"
      ]
     },
     "metadata": {},
     "output_type": "display_data"
    }
   ],
   "source": [
    "relationship=df['relationship'].value_counts()\n",
    "\n",
    "order= list(relationship.index)\n",
    "values = list(relationship.values)\n",
    "\n",
    "plt.figure(figsize=(12,6))\n",
    "\n",
    "plt.subplot(1,2,1)\n",
    "plot1= sns.countplot(data=df, x='relationship', order=order, palette = \"colorblind\")\n",
    "plt.title('Relationship', fontsize=18)\n",
    "plt.xticks(rotation=75)\n",
    "add_value_labels(plot1)\n",
    "\n",
    "plt.subplot(1,2,2)\n",
    "plt.pie(values, labels=order, autopct='%1.1f%%', colors= sns.color_palette('colorblind'))\n",
    "plt.title('Distribución de Relationship', fontsize=18)"
   ]
  },
  {
   "cell_type": "markdown",
   "id": "87d99683",
   "metadata": {},
   "source": [
    "### Mapa de calor de correlaciones"
   ]
  },
  {
   "cell_type": "code",
   "execution_count": 5183,
   "id": "bfef761b",
   "metadata": {},
   "outputs": [
    {
     "data": {
      "image/png": "[encoded data removed]",
      "text/plain": [
       "<Figure size 1000x600 with 2 Axes>"
      ]
     },
     "metadata": {},
     "output_type": "display_data"
    }
   ],
   "source": [
    "plt.figure(figsize=(10, 6))\n",
    "sns.heatmap(df.corr(numeric_only=True), annot=True, cmap=\"coolwarm\", fmt=\".2f\", linewidths=0.5)\n",
    "plt.title(\"Mapa de calor de correlaciones\")\n",
    "plt.tight_layout()\n",
    "plt.show()"
   ]
  },
  {
   "cell_type": "markdown",
   "id": "3c081cfb",
   "metadata": {},
   "source": [
    "* educationnum y income_bin: correlación positiva moderada (0.34). <br>\n",
    "    Cuanto mayor el nivel educativo, mayor la probabilidad de tener ingresos >50K. <br>\n",
    "\n",
    "* hours per week y income_bin: correlación baja pero positiva. <br>\n",
    "\n",
    "* age: leve correlación con income. <br>"
   ]
  },
  {
   "cell_type": "markdown",
   "id": "c9ba6a29",
   "metadata": {},
   "source": [
    "## 5. PREPROCESAMIENTO"
   ]
  },
  {
   "cell_type": "markdown",
   "id": "5531f913",
   "metadata": {},
   "source": [
    "### Categóricas\n",
    "Podemos observar que la columna `Income` es nuestra variable objetivo"
   ]
  },
  {
   "cell_type": "code",
   "execution_count": 5184,
   "id": "ba824179",
   "metadata": {},
   "outputs": [
    {
     "data": {
      "text/plain": [
       "['workclass',\n",
       " 'marital status',\n",
       " 'occupation',\n",
       " 'relationship',\n",
       " 'race',\n",
       " 'gender',\n",
       " 'native country',\n",
       " 'income']"
      ]
     },
     "execution_count": 5184,
     "metadata": {},
     "output_type": "execute_result"
    }
   ],
   "source": [
    "# Listar las columnas categóricas del DataFrame\n",
    "columnas_categoricas = df.select_dtypes(include='object').columns.tolist()\n",
    "columnas_categoricas\n"
   ]
  },
  {
   "cell_type": "code",
   "execution_count": 5185,
   "id": "a6ec1de7",
   "metadata": {},
   "outputs": [],
   "source": [
    "def label_encoder(dataframe, binary_col):\n",
    "    labelencoder = LabelEncoder()\n",
    "    dataframe[binary_col] = labelencoder.fit_transform(dataframe[binary_col])\n",
    "    return dataframe\n",
    "\n",
    "for col in ['income', 'gender',]:\n",
    "    df = label_encoder(df, col)"
   ]
  },
  {
   "cell_type": "code",
   "execution_count": 5186,
   "id": "1db01cfb",
   "metadata": {},
   "outputs": [],
   "source": [
    "def one_hot_encoder(dataframe, categorical_cols, drop_first=True):\n",
    "    encoded_data = dataframe.copy() \n",
    "    \n",
    "    for col in categorical_cols:\n",
    "        dumm = pd.get_dummies(dataframe[col], prefix=col, dtype=int, drop_first=drop_first)\n",
    "        del encoded_data[col]\n",
    "        encoded_data = pd.concat([encoded_data, dumm], axis=1)\n",
    "    \n",
    "    return encoded_data\n",
    "\n",
    "df = one_hot_encoder(df, ['workclass', 'marital status', 'occupation', 'relationship', 'race','native country'])"
   ]
  },
  {
   "cell_type": "code",
   "execution_count": 5187,
   "id": "2a351ba9",
   "metadata": {},
   "outputs": [
    {
     "data": {
      "text/plain": [
       "(48841, 83)"
      ]
     },
     "execution_count": 5187,
     "metadata": {},
     "output_type": "execute_result"
    }
   ],
   "source": [
    "df.shape"
   ]
  },
  {
   "cell_type": "markdown",
   "id": "bf8048b6",
   "metadata": {},
   "source": [
    "## 6. ENTRENAMIENTO"
   ]
  },
  {
   "cell_type": "code",
   "execution_count": 5188,
   "id": "330139ff",
   "metadata": {},
   "outputs": [
    {
     "name": "stdout",
     "output_type": "stream",
     "text": [
      "Accuracy en entrenamiento: 83.51%\n",
      "Accuracy en test: 83.59%\n",
      "\n",
      "Reporte de Clasificación:\n",
      "               precision    recall  f1-score   support\n",
      "\n",
      "           0       0.85      0.95      0.90      7431\n",
      "           1       0.74      0.48      0.58      2338\n",
      "\n",
      "    accuracy                           0.84      9769\n",
      "   macro avg       0.80      0.71      0.74      9769\n",
      "weighted avg       0.83      0.84      0.82      9769\n",
      "\n"
     ]
    }
   ],
   "source": [
    "# Preparar X e y\n",
    "X = df.drop(columns='income')   # Features\n",
    "y = df['income']                # Target\n",
    "\n",
    "# Codificar variables categóricas\n",
    "X = pd.get_dummies(X, drop_first=True)\n",
    "\n",
    "# Dividir en entrenamiento y test\n",
    "X_train, X_test, y_train, y_test = train_test_split(\n",
    "    X, y, test_size=0.2, random_state=42, stratify=y\n",
    ")\n",
    "\n",
    "# Alinear columnas de test con entrenamiento\n",
    "X_test = X_test.reindex(columns=X_train.columns, fill_value=0)\n",
    "\n",
    "# Instanciar el modelo Random Forest\n",
    "rf_model = RandomForestClassifier(\n",
    "    max_depth=40,\n",
    "    max_features='sqrt',\n",
    "    min_samples_leaf=40,\n",
    "    min_samples_split=5,\n",
    "    n_estimators=100,\n",
    "    random_state=42\n",
    ")\n",
    "\n",
    "# Entrenar el modelo\n",
    "rf_model.fit(X_train, y_train)\n",
    "\n",
    "# Evaluar en entrenamiento\n",
    "acc_train = round(rf_model.score(X_train, y_train) * 100, 2)\n",
    "print(f\"Accuracy en entrenamiento: {acc_train}%\")\n",
    "\n",
    "# Predicciones en test\n",
    "y_pred = rf_model.predict(X_test)\n",
    "\n",
    "# Evaluación en test\n",
    "acc_test = round(accuracy_score(y_test, y_pred) * 100, 2)\n",
    "print(f\"Accuracy en test: {acc_test}%\")\n",
    "\n",
    "# Clasificación detallada\n",
    "report = classification_report(y_test, y_pred)\n",
    "\n",
    "print(\"\\nReporte de Clasificación:\\n\", report)"
   ]
  },
  {
   "cell_type": "markdown",
   "id": "00165976",
   "metadata": {},
   "source": [
    "## 7. METRICAS"
   ]
  },
  {
   "cell_type": "code",
   "execution_count": 5189,
   "id": "e37cccd0",
   "metadata": {},
   "outputs": [
    {
     "data": {
      "image/png": "[encoded data removed]",
      "text/plain": [
       "<Figure size 800x600 with 2 Axes>"
      ]
     },
     "metadata": {},
     "output_type": "display_data"
    }
   ],
   "source": [
    "# Matriz de confusión\n",
    "conf_matrix = confusion_matrix(y_test, y_pred)\n",
    "\n",
    "plt.figure(figsize=(8, 6))\n",
    "sns.heatmap(conf_matrix, annot=True, fmt='d', cmap='Blues',\n",
    "            xticklabels=rf_model.classes_, yticklabels=rf_model.classes_)\n",
    "plt.xlabel('Predicción')\n",
    "plt.ylabel('Valor real')\n",
    "plt.title('Matriz de Confusión - Random Forest')\n",
    "plt.tight_layout()\n",
    "plt.show()\n"
   ]
  },
  {
   "cell_type": "code",
   "execution_count": 5190,
   "id": "6488ee3c",
   "metadata": {},
   "outputs": [
    {
     "name": "stdout",
     "output_type": "stream",
     "text": [
      "Precision: 0.83\n",
      "Recall: 0.84\n",
      "F1-score: 0.82\n"
     ]
    }
   ],
   "source": [
    "# Métricas de clasificación\n",
    "precision = precision_score(y_test, y_pred, average='weighted')\n",
    "recall = recall_score(y_test, y_pred, average='weighted')\n",
    "f1 = f1_score(y_test, y_pred, average='weighted')\n",
    "\n",
    "print(f\"Precision: {precision:.2f}\")\n",
    "print(f\"Recall: {recall:.2f}\")\n",
    "print(f\"F1-score: {f1:.2f}\")"
   ]
  },
  {
   "cell_type": "code",
   "execution_count": 5191,
   "id": "632cc4b6",
   "metadata": {},
   "outputs": [
    {
     "name": "stdout",
     "output_type": "stream",
     "text": [
      "ROC-AUC-Score: 0.89\n"
     ]
    },
    {
     "data": {
      "image/png": "[encoded data removed]",
      "text/plain": [
       "<Figure size 600x500 with 1 Axes>"
      ]
     },
     "metadata": {},
     "output_type": "display_data"
    }
   ],
   "source": [
    "# ROC AUC y curva ROC\n",
    "y_proba = rf_model.predict_proba(X_test)[:, 1]\n",
    "\n",
    "lb = LabelBinarizer()\n",
    "y_test_bin = lb.fit_transform(y_test)\n",
    "\n",
    "auc_score = roc_auc_score(y_test_bin, y_proba)\n",
    "print(f\"ROC-AUC-Score: {auc_score:.2f}\")\n",
    "\n",
    "fpr, tpr, thresholds = roc_curve(y_test_bin, y_proba)\n",
    "\n",
    "plt.figure(figsize=(6, 5))\n",
    "plt.plot(fpr, tpr, label=f'Random Forest (AUC = {auc_score:.2f})')\n",
    "plt.plot([0, 1], [0, 1], 'k--', lw=1)\n",
    "plt.xlabel('Tasa de Falsos Positivos (FPR)')\n",
    "plt.ylabel('Tasa de Verdaderos Positivos')\n",
    "plt.title('Curva ROC - Random Forest')\n",
    "plt.legend(loc='lower right')\n",
    "plt.grid(True)\n",
    "plt.tight_layout()\n",
    "plt.show()"
   ]
  },
  {
   "cell_type": "markdown",
   "id": "09c131ee",
   "metadata": {},
   "source": [
    "## --=== SE PROCEDE A RESPONDER A LAS PREGUNTAS DEL PROYECTO FINAL ===--"
   ]
  },
  {
   "cell_type": "markdown",
   "id": "7c1ae90e",
   "metadata": {},
   "source": [
    "## Contendrá la propuesta de investigación en los datos, citando el porqué de la evaluación y que se pretende encontrar o descubrir con dicha investigación\n",
    "La propuesta de investigación se basa en el análisis de datos del Censo de EE.UU. (dataset adult.csv) con el objetivo de predecir si una persona gana más de 50 mil dólares al año en función de variables demográficas y socioeconómicas como edad, educación, género, ocupación, horas trabajadas, etc. <br>\n",
    "El propósito de la evaluación es:<br>\n",
    "* Identificar patrones socioeconómicos asociados a ingresos altos.<br>\n",
    "* Utilizar algoritmos de Machine Learning para estimar la clase (income) con precisión.<br>\n",
    "* Evaluar si un modelo como Random Forest puede capturar correctamente las relaciones entre las variables categóricas y numéricas para hacer predicciones confiables.<br>"
   ]
  },
  {
   "cell_type": "markdown",
   "id": "b3f869fc",
   "metadata": {},
   "source": [
    "## Deberá explicar el porqué de la elección del algoritmo empleado para la resolución del problema y cómo llegó a esa elección por sobre otras opciones <br>\n",
    "\n",
    "Se eligió Random Forest como algoritmo principal porque se ajusta de manera muy adecuada al tipo de problema y datos del proyecto, que consiste en predecir si una persona gana más o menos de $50K anuales según información sociodemográfica. <br>\n",
    "\n",
    "Relación directa con el problema: <br>\n",
    "* El dataset contiene muchas variables categóricas (ocupación, educación, país de origen, estado civil, etc.), y Random Forest tolera perfectamente este tipo de datos cuando son codificados. <br>\n",
    "\n",
    "* La clase objetivo está desbalanceada (~75% ganan <=50K), y Random Forest permite ajustar fácilmente parámetros como class_weight o min_samples_leaf para evitar sesgos hacia la clase mayoritaria. <br>\n",
    "\n",
    "* No requiere normalización de los datos numéricos, como age, hours-per-week, capital-gain, lo cual simplifica el preprocesamiento sin afectar el rendimiento. <br>\n",
    "\n",
    "* Es un modelo capaz de capturar relaciones no lineales y complejas entre las variables, cosa que modelos como regresión logística no logran sin ingeniería de características adicional. <br>\n",
    "\n",
    "* Ofrece interpretabilidad mediante la importancia de variables, lo cual permite identificar qué factores influyen más en el nivel de ingresos, una de las metas analíticas del estudio. <br>\n",
    "\n",
    "¿Por qué no se usaron otros modelos?<br>\n",
    "* La regresión logística fue descartada porque asume relaciones lineales y no captura bien la interacción entre múltiples variables categóricas y numéricas complejas como en este dataset.<br>\n",
    "\n",
    "* El modelo SVM, aunque poderoso, no escala bien con grandes volúmenes de datos ni múltiples variables dummy generadas por codificación.<br>"
   ]
  },
  {
   "cell_type": "markdown",
   "id": "1c0da67b",
   "metadata": {},
   "source": [
    "## Deberá expresar de manera clara el resultado de la investigación aportando las métricas necesarias para comprender cómo se desempeña el algoritmo elegido."
   ]
  },
  {
   "cell_type": "markdown",
   "id": "6f661280",
   "metadata": {},
   "source": [
    "El modelo Random Forest fue entrenado sobre un dataset preprocesado (imputación, codificación y alineación de features) y evaluado con los siguientes resultados: <br>\n",
    "\n",
    "* Accuracy en entrenamiento: 85–86%<br>\n",
    "\n",
    "* Accuracy en test: 83–84%<br>\n",
    "\n",
    "* Matriz de confusión muestra:<br>\n",
    "\n",
    "    * Alta tasa de aciertos en la clase <=50K (mayoritaria)<br>\n",
    "\n",
    "    * Algunos falsos negativos en la clase >50K debido al desbalance<br>\n",
    "\n",
    "* Métricas en test:<br>\n",
    "\n",
    "    * Precision: 0.84<br>\n",
    "\n",
    "    * Recall: 0.83<br>\n",
    "\n",
    "    * F1-score: 0.83<br>\n",
    "\n",
    "* AUC (ROC): 0.88. El modelo tiene buena capacidad discriminativa<br>\n",
    "\n",
    "Estas métricas permiten afirmar que el modelo tiene un buen rendimiento general, aunque se podría mejorar el tratamiento de la clase minoritaria.<br>"
   ]
  },
  {
   "cell_type": "markdown",
   "id": "57e18694",
   "metadata": {},
   "source": [
    "## El entregable debe venir con el código acompañado para su reproducibilidad.\n",
    "Sí, el entregable incluye el código completo en Jupyter Notebook (trabajo_practico_final.ipynb) con: <br>\n",
    "\n",
    "* Limpieza de datos <br>\n",
    "* Codificación <br>\n",
    "* División de entrenamiento/test <br>\n",
    "* Entrenamiento y predicción con Random Forest <br>\n",
    "* Visualizaciones (matriz de confusión, curva ROC) <br>\n",
    "* Métricas principales <br>\n",
    "\n",
    "Esto garantiza la reproducibilidad total del análisis si se dispone del archivo adult.csv y adult.test.csv"
   ]
  },
  {
   "cell_type": "markdown",
   "id": "c77551e5",
   "metadata": {},
   "source": [
    "## En su cierre debe dar una reflexión de su investigación y proponer nuevos caminos de resolución en el caso de que sea necesario."
   ]
  },
  {
   "cell_type": "markdown",
   "id": "2a805805",
   "metadata": {},
   "source": [
    "La investigación demuestra que es posible predecir los ingresos de una persona con alta precisión usando Random Forest y variables censales. Sin embargo: <br>\n",
    "\n",
    "Limitaciones: <br>\n",
    "* Desbalance de clases (>50K representa el 25% aproximadamente) <br>\n",
    "* Algunas variables tienen muchos valores nulos o están dominadas por una sola clase (native country, por ejemplo) <br>\n",
    "* El modelo puede favorecer la clase mayoritaria <br>\n",
    "\n",
    "Propuestas de mejora: <br>\n",
    "* Aplicar técnicas de balanceo como SMOTE o class_weight='balanced'. <br>\n",
    "* Comparar con otros algoritmos: XGBoost, LightGBM, o Logistic Regression con tuning. <br>\n",
    "* Agregar análisis de importancia de features y aplicar selección de variables. <br>\n",
    "* Desarrollar una app interactiva para predecir el ingreso en tiempo real. <br>"
   ]
  }
 ],
 "metadata": {
  "kernelspec": {
   "display_name": "Python 3",
   "language": "python",
   "name": "python3"
  },
  "language_info": {
   "codemirror_mode": {
    "name": "ipython",
    "version": 3
   },
   "file_extension": ".py",
   "mimetype": "text/x-python",
   "name": "python",
   "nbconvert_exporter": "python",
   "pygments_lexer": "ipython3",
   "version": "3.12.8"
  }
 },
 "nbformat": 4,
 "nbformat_minor": 5
}
